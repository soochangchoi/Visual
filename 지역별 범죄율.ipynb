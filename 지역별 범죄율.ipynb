{
 "cells": [
  {
   "cell_type": "markdown",
   "metadata": {},
   "source": [
    "[지역별 범죄율 예측]\n",
    "- 사람이 많이 사는 서울 경기 지역이 범죄율이 높을것이다."
   ]
  },
  {
   "cell_type": "code",
   "execution_count": 1,
   "metadata": {},
   "outputs": [],
   "source": [
    "import pandas as pd         # 데이터 분석 및 전처리용 모듈\n",
    "import numpy as np          # 배열(array)를 지원하는 파이썬 패키지\n",
    "import matplotlib.pyplot as plt\n",
    "import seaborn as sns           #데이터 시각화 즉, 그래프 관련 모듈\n",
    "import matplotlib.font_manager as fm\n",
    "plt.rc('font', family='Malgun Gothic')"
   ]
  },
  {
   "cell_type": "code",
   "execution_count": 2,
   "metadata": {},
   "outputs": [
    {
     "name": "stdout",
     "output_type": "stream",
     "text": [
      "Requirement already satisfied: folium in c:\\users\\kdp\\anaconda3\\envs\\py39\\lib\\site-packages (0.19.4)\n",
      "Requirement already satisfied: branca>=0.6.0 in c:\\users\\kdp\\anaconda3\\envs\\py39\\lib\\site-packages (from folium) (0.8.1)\n",
      "Requirement already satisfied: jinja2>=2.9 in c:\\users\\kdp\\anaconda3\\envs\\py39\\lib\\site-packages (from folium) (3.1.5)\n",
      "Requirement already satisfied: numpy in c:\\users\\kdp\\anaconda3\\envs\\py39\\lib\\site-packages (from folium) (2.0.2)\n",
      "Requirement already satisfied: requests in c:\\users\\kdp\\anaconda3\\envs\\py39\\lib\\site-packages (from folium) (2.32.3)\n",
      "Requirement already satisfied: xyzservices in c:\\users\\kdp\\anaconda3\\envs\\py39\\lib\\site-packages (from folium) (2025.1.0)\n",
      "Requirement already satisfied: MarkupSafe>=2.0 in c:\\users\\kdp\\anaconda3\\envs\\py39\\lib\\site-packages (from jinja2>=2.9->folium) (3.0.2)\n",
      "Requirement already satisfied: charset-normalizer<4,>=2 in c:\\users\\kdp\\anaconda3\\envs\\py39\\lib\\site-packages (from requests->folium) (3.4.1)\n",
      "Requirement already satisfied: idna<4,>=2.5 in c:\\users\\kdp\\anaconda3\\envs\\py39\\lib\\site-packages (from requests->folium) (3.10)\n",
      "Requirement already satisfied: urllib3<3,>=1.21.1 in c:\\users\\kdp\\anaconda3\\envs\\py39\\lib\\site-packages (from requests->folium) (2.3.0)\n",
      "Requirement already satisfied: certifi>=2017.4.17 in c:\\users\\kdp\\anaconda3\\envs\\py39\\lib\\site-packages (from requests->folium) (2024.12.14)\n"
     ]
    }
   ],
   "source": [
    "!pip install folium"
   ]
  },
  {
   "cell_type": "code",
   "execution_count": 3,
   "metadata": {},
   "outputs": [],
   "source": [
    "# 무료 지도\n",
    "import folium  #folium 홈페이지 참고"
   ]
  },
  {
   "cell_type": "code",
   "execution_count": 4,
   "metadata": {},
   "outputs": [],
   "source": [
    "# 데이터 불러오기\n",
    "Data = '../지역별 범죄.xlsx'   # 100,000명 기준"
   ]
  },
  {
   "cell_type": "code",
   "execution_count": 5,
   "metadata": {},
   "outputs": [],
   "source": [
    "criminal_data = pd.read_excel(Data)"
   ]
  },
  {
   "cell_type": "code",
   "execution_count": 6,
   "metadata": {},
   "outputs": [
    {
     "name": "stdout",
     "output_type": "stream",
     "text": [
      "<class 'pandas.core.frame.DataFrame'>\n",
      "RangeIndex: 19 entries, 0 to 18\n",
      "Data columns (total 10 columns):\n",
      " #   Column  Non-Null Count  Dtype \n",
      "---  ------  --------------  ----- \n",
      " 0   년도      19 non-null     object\n",
      " 1   2014    19 non-null     object\n",
      " 2   2015    17 non-null     object\n",
      " 3   2016    17 non-null     object\n",
      " 4   2017    17 non-null     object\n",
      " 5   2018    17 non-null     object\n",
      " 6   2019    17 non-null     object\n",
      " 7   2020    17 non-null     object\n",
      " 8   2021    17 non-null     object\n",
      " 9   2022    17 non-null     object\n",
      "dtypes: object(10)\n",
      "memory usage: 1.6+ KB\n"
     ]
    }
   ],
   "source": [
    "criminal_data.info()"
   ]
  },
  {
   "cell_type": "code",
   "execution_count": 7,
   "metadata": {},
   "outputs": [
    {
     "data": {
      "text/html": [
       "<div>\n",
       "<style scoped>\n",
       "    .dataframe tbody tr th:only-of-type {\n",
       "        vertical-align: middle;\n",
       "    }\n",
       "\n",
       "    .dataframe tbody tr th {\n",
       "        vertical-align: top;\n",
       "    }\n",
       "\n",
       "    .dataframe thead th {\n",
       "        text-align: right;\n",
       "    }\n",
       "</style>\n",
       "<table border=\"1\" class=\"dataframe\">\n",
       "  <thead>\n",
       "    <tr style=\"text-align: right;\">\n",
       "      <th></th>\n",
       "      <th>년도</th>\n",
       "      <th>2014</th>\n",
       "      <th>2015</th>\n",
       "      <th>2016</th>\n",
       "      <th>2017</th>\n",
       "      <th>2018</th>\n",
       "      <th>2019</th>\n",
       "      <th>2020</th>\n",
       "      <th>2021</th>\n",
       "      <th>2022</th>\n",
       "    </tr>\n",
       "  </thead>\n",
       "  <tbody>\n",
       "    <tr>\n",
       "      <th>0</th>\n",
       "      <td>서울</td>\n",
       "      <td>3,903.2</td>\n",
       "      <td>3,887.8</td>\n",
       "      <td>3,786.9</td>\n",
       "      <td>3,609.0</td>\n",
       "      <td>3,519.4</td>\n",
       "      <td>3,525.9</td>\n",
       "      <td>3,309.7</td>\n",
       "      <td>2,892.5</td>\n",
       "      <td>3,139.8</td>\n",
       "    </tr>\n",
       "    <tr>\n",
       "      <th>1</th>\n",
       "      <td>부산</td>\n",
       "      <td>4,285.4</td>\n",
       "      <td>4,532.5</td>\n",
       "      <td>4,178.7</td>\n",
       "      <td>3,800.6</td>\n",
       "      <td>3,709.2</td>\n",
       "      <td>3,807.1</td>\n",
       "      <td>3,804.7</td>\n",
       "      <td>3,412.9</td>\n",
       "      <td>3,580.4</td>\n",
       "    </tr>\n",
       "    <tr>\n",
       "      <th>2</th>\n",
       "      <td>대구</td>\n",
       "      <td>4,180.7</td>\n",
       "      <td>4,363.7</td>\n",
       "      <td>3,807.5</td>\n",
       "      <td>3,347.8</td>\n",
       "      <td>3,246.0</td>\n",
       "      <td>3,402.2</td>\n",
       "      <td>3,279.8</td>\n",
       "      <td>3,029.7</td>\n",
       "      <td>3,020.5</td>\n",
       "    </tr>\n",
       "    <tr>\n",
       "      <th>3</th>\n",
       "      <td>인천</td>\n",
       "      <td>3,628.7</td>\n",
       "      <td>3,823.6</td>\n",
       "      <td>3,769.0</td>\n",
       "      <td>3,472.3</td>\n",
       "      <td>3,222.4</td>\n",
       "      <td>3,431.0</td>\n",
       "      <td>3,264.6</td>\n",
       "      <td>2,904.9</td>\n",
       "      <td>3,079.8</td>\n",
       "    </tr>\n",
       "    <tr>\n",
       "      <th>4</th>\n",
       "      <td>광주</td>\n",
       "      <td>4,731.0</td>\n",
       "      <td>4,458.2</td>\n",
       "      <td>4,017.8</td>\n",
       "      <td>3,653.0</td>\n",
       "      <td>3,441.4</td>\n",
       "      <td>3,547.5</td>\n",
       "      <td>3,370.6</td>\n",
       "      <td>3,036.9</td>\n",
       "      <td>2,935.8</td>\n",
       "    </tr>\n",
       "  </tbody>\n",
       "</table>\n",
       "</div>"
      ],
      "text/plain": [
       "   년도     2014     2015     2016     2017     2018     2019     2020     2021  \\\n",
       "0  서울  3,903.2  3,887.8  3,786.9  3,609.0  3,519.4  3,525.9  3,309.7  2,892.5   \n",
       "1  부산  4,285.4  4,532.5  4,178.7  3,800.6  3,709.2  3,807.1  3,804.7  3,412.9   \n",
       "2  대구  4,180.7  4,363.7  3,807.5  3,347.8  3,246.0  3,402.2  3,279.8  3,029.7   \n",
       "3  인천  3,628.7  3,823.6  3,769.0  3,472.3  3,222.4  3,431.0  3,264.6  2,904.9   \n",
       "4  광주  4,731.0  4,458.2  4,017.8  3,653.0  3,441.4  3,547.5  3,370.6  3,036.9   \n",
       "\n",
       "      2022  \n",
       "0  3,139.8  \n",
       "1  3,580.4  \n",
       "2  3,020.5  \n",
       "3  3,079.8  \n",
       "4  2,935.8  "
      ]
     },
     "execution_count": 7,
     "metadata": {},
     "output_type": "execute_result"
    }
   ],
   "source": [
    "criminal_data.head()"
   ]
  },
  {
   "cell_type": "code",
   "execution_count": 8,
   "metadata": {},
   "outputs": [],
   "source": [
    "criminalDF = criminal_data.dropna()"
   ]
  },
  {
   "cell_type": "code",
   "execution_count": 9,
   "metadata": {},
   "outputs": [
    {
     "name": "stdout",
     "output_type": "stream",
     "text": [
      "    년도     2014     2015     2016     2017     2018     2019     2020  \\\n",
      "0   서울  3,903.2  3,887.8  3,786.9  3,609.0  3,519.4  3,525.9  3,309.7   \n",
      "1   부산  4,285.4  4,532.5  4,178.7  3,800.6  3,709.2  3,807.1  3,804.7   \n",
      "2   대구  4,180.7  4,363.7  3,807.5  3,347.8  3,246.0  3,402.2  3,279.8   \n",
      "3   인천  3,628.7  3,823.6  3,769.0  3,472.3  3,222.4  3,431.0  3,264.6   \n",
      "4   광주  4,731.0  4,458.2  4,017.8  3,653.0  3,441.4  3,547.5  3,370.6   \n",
      "5   대전  3,235.2  3,383.9  3,365.3  3,296.1  3,184.2  3,188.4  3,147.7   \n",
      "6   울산  3,951.6  2,940.0  2,539.9  2,291.9  2,196.8  2,253.0  2,187.0   \n",
      "7   세종  2,806.6  2,081.7  2,031.5  1,891.8  1,763.8  1,912.4  1,909.5   \n",
      "8   경기  3,606.1  3,806.9  4,151.3  3,596.9  3,300.6  3,273.8  3,192.6   \n",
      "9   강원  3,891.7  4,170.0  4,260.0  3,872.8  3,450.3  3,505.6  3,392.6   \n",
      "10  충북  3,512.2  3,667.6  3,857.7  3,539.0  3,316.2  3,302.2  3,166.8   \n",
      "11  충남  3,697.4  3,899.9  3,674.6  3,425.9  3,463.5  3,372.0  3,300.8   \n",
      "12  전북  3,427.0  3,579.4  3,400.4  3,130.3  3,091.8  3,201.6  3,112.9   \n",
      "13  전남  4,010.6  4,435.5  4,156.8  3,599.8  3,670.4  3,824.0  3,761.5   \n",
      "14  경북  3,575.9  3,725.6  3,585.5  3,328.8  3,191.2  3,298.2  3,159.8   \n",
      "15  경남  3,688.3  4,352.1  4,292.8  3,812.0  3,498.4  3,701.1  3,694.6   \n",
      "16  제주  5,525.6  5,980.0  6,050.9  5,382.9  4,599.5  4,266.0  4,381.0   \n",
      "\n",
      "       2021     2022  \n",
      "0   2,892.5  3,139.8  \n",
      "1   3,412.9  3,580.4  \n",
      "2   3,029.7  3,020.5  \n",
      "3   2,904.9  3,079.8  \n",
      "4   3,036.9  2,935.8  \n",
      "5   2,834.7  3,102.1  \n",
      "6   2,088.1  1,597.4  \n",
      "7   1,678.8  1,804.5  \n",
      "8   2,850.5  2,858.9  \n",
      "9   2,985.8  3,017.1  \n",
      "10  2,880.5  2,896.8  \n",
      "11  2,907.8  3,111.3  \n",
      "12  2,931.0  3,018.5  \n",
      "13  3,376.7  3,479.8  \n",
      "14  2,851.2  3,004.0  \n",
      "15  3,348.9  3,389.4  \n",
      "16  3,936.3  4,066.6  \n"
     ]
    }
   ],
   "source": [
    "print(criminalDF)"
   ]
  },
  {
   "cell_type": "code",
   "execution_count": 10,
   "metadata": {},
   "outputs": [
    {
     "data": {
      "text/html": [
       "<div>\n",
       "<style scoped>\n",
       "    .dataframe tbody tr th:only-of-type {\n",
       "        vertical-align: middle;\n",
       "    }\n",
       "\n",
       "    .dataframe tbody tr th {\n",
       "        vertical-align: top;\n",
       "    }\n",
       "\n",
       "    .dataframe thead th {\n",
       "        text-align: right;\n",
       "    }\n",
       "</style>\n",
       "<table border=\"1\" class=\"dataframe\">\n",
       "  <thead>\n",
       "    <tr style=\"text-align: right;\">\n",
       "      <th></th>\n",
       "      <th>년도</th>\n",
       "      <th>2014</th>\n",
       "      <th>2015</th>\n",
       "      <th>2016</th>\n",
       "      <th>2017</th>\n",
       "      <th>2018</th>\n",
       "      <th>2019</th>\n",
       "      <th>2020</th>\n",
       "      <th>2021</th>\n",
       "      <th>2022</th>\n",
       "    </tr>\n",
       "  </thead>\n",
       "  <tbody>\n",
       "    <tr>\n",
       "      <th>count</th>\n",
       "      <td>17</td>\n",
       "      <td>17</td>\n",
       "      <td>17</td>\n",
       "      <td>17</td>\n",
       "      <td>17</td>\n",
       "      <td>17</td>\n",
       "      <td>17</td>\n",
       "      <td>17</td>\n",
       "      <td>17</td>\n",
       "      <td>17</td>\n",
       "    </tr>\n",
       "    <tr>\n",
       "      <th>unique</th>\n",
       "      <td>17</td>\n",
       "      <td>17</td>\n",
       "      <td>17</td>\n",
       "      <td>17</td>\n",
       "      <td>17</td>\n",
       "      <td>17</td>\n",
       "      <td>17</td>\n",
       "      <td>17</td>\n",
       "      <td>17</td>\n",
       "      <td>17</td>\n",
       "    </tr>\n",
       "    <tr>\n",
       "      <th>top</th>\n",
       "      <td>서울</td>\n",
       "      <td>3,903.2</td>\n",
       "      <td>3,887.8</td>\n",
       "      <td>3,786.9</td>\n",
       "      <td>3,609.0</td>\n",
       "      <td>3,519.4</td>\n",
       "      <td>3,525.9</td>\n",
       "      <td>3,309.7</td>\n",
       "      <td>2,892.5</td>\n",
       "      <td>3,139.8</td>\n",
       "    </tr>\n",
       "    <tr>\n",
       "      <th>freq</th>\n",
       "      <td>1</td>\n",
       "      <td>1</td>\n",
       "      <td>1</td>\n",
       "      <td>1</td>\n",
       "      <td>1</td>\n",
       "      <td>1</td>\n",
       "      <td>1</td>\n",
       "      <td>1</td>\n",
       "      <td>1</td>\n",
       "      <td>1</td>\n",
       "    </tr>\n",
       "  </tbody>\n",
       "</table>\n",
       "</div>"
      ],
      "text/plain": [
       "        년도     2014     2015     2016     2017     2018     2019     2020  \\\n",
       "count   17       17       17       17       17       17       17       17   \n",
       "unique  17       17       17       17       17       17       17       17   \n",
       "top     서울  3,903.2  3,887.8  3,786.9  3,609.0  3,519.4  3,525.9  3,309.7   \n",
       "freq     1        1        1        1        1        1        1        1   \n",
       "\n",
       "           2021     2022  \n",
       "count        17       17  \n",
       "unique       17       17  \n",
       "top     2,892.5  3,139.8  \n",
       "freq          1        1  "
      ]
     },
     "execution_count": 10,
     "metadata": {},
     "output_type": "execute_result"
    }
   ],
   "source": [
    "criminalDF.describe()"
   ]
  },
  {
   "cell_type": "code",
   "execution_count": 11,
   "metadata": {},
   "outputs": [
    {
     "data": {
      "text/plain": [
       "Index(['년도', '2014', '2015', '2016', '2017', '2018', '2019', '2020', '2021',\n",
       "       '2022'],\n",
       "      dtype='object')"
      ]
     },
     "execution_count": 11,
     "metadata": {},
     "output_type": "execute_result"
    }
   ],
   "source": [
    "criminalDF.columns"
   ]
  },
  {
   "cell_type": "code",
   "execution_count": 12,
   "metadata": {},
   "outputs": [
    {
     "data": {
      "text/plain": [
       "(17, 10)"
      ]
     },
     "execution_count": 12,
     "metadata": {},
     "output_type": "execute_result"
    }
   ],
   "source": [
    "criminalDF.shape"
   ]
  },
  {
   "cell_type": "code",
   "execution_count": 13,
   "metadata": {},
   "outputs": [],
   "source": [
    "criminalDF.columns = ['지역'] + criminalDF.columns[1:].astype(str).tolist()"
   ]
  },
  {
   "cell_type": "code",
   "execution_count": 14,
   "metadata": {},
   "outputs": [],
   "source": [
    "criminalDF_2022 = criminalDF[['지역', '2022']].copy()\n",
    "criminalDF_2022['2022'] = criminalDF_2022['2022'].astype(str).str.replace(',', '').astype(float)"
   ]
  },
  {
   "cell_type": "code",
   "execution_count": 15,
   "metadata": {},
   "outputs": [
    {
     "name": "stdout",
     "output_type": "stream",
     "text": [
      "    지역    2022\n",
      "0   서울  3139.8\n",
      "1   부산  3580.4\n",
      "2   대구  3020.5\n",
      "3   인천  3079.8\n",
      "4   광주  2935.8\n",
      "5   대전  3102.1\n",
      "6   울산  1597.4\n",
      "7   세종  1804.5\n",
      "8   경기  2858.9\n",
      "9   강원  3017.1\n",
      "10  충북  2896.8\n",
      "11  충남  3111.3\n",
      "12  전북  3018.5\n",
      "13  전남  3479.8\n",
      "14  경북  3004.0\n",
      "15  경남  3389.4\n",
      "16  제주  4066.6\n"
     ]
    }
   ],
   "source": [
    "print(criminalDF_2022)"
   ]
  },
  {
   "cell_type": "code",
   "execution_count": 16,
   "metadata": {},
   "outputs": [
    {
     "name": "stderr",
     "output_type": "stream",
     "text": [
      "C:\\Users\\Public\\Documents\\ESTsoft\\CreatorTemp\\ipykernel_13428\\236641980.py:3: FutureWarning: \n",
      "\n",
      "Passing `palette` without assigning `hue` is deprecated and will be removed in v0.14.0. Assign the `x` variable to `hue` and set `legend=False` for the same effect.\n",
      "\n",
      "  sns.barplot(data=criminalDF_2022, x='지역', y='2022', palette='coolwarm')\n"
     ]
    },
    {
     "data": {
      "image/png": "[encoded data removed]",
      "text/plain": [
       "<Figure size 1000x600 with 1 Axes>"
      ]
     },
     "metadata": {},
     "output_type": "display_data"
    }
   ],
   "source": [
    "# 그래프 스타일 설정\n",
    "plt.figure(figsize=(10, 6))\n",
    "sns.barplot(data=criminalDF_2022, x='지역', y='2022', palette='coolwarm')\n",
    "\n",
    "# 그래프 제목 및 축 라벨 설정\n",
    "plt.title(\"2022년 지역별 범죄율 비교\", fontsize=14)\n",
    "plt.xlabel(\"지역\", fontsize=12)\n",
    "plt.ylabel(\"범죄율 (인구 10만 명당 건수)\", fontsize=12)\n",
    "plt.xticks(rotation=45)\n",
    "plt.grid(axis='y', linestyle='--', alpha=0.7)\n",
    "\n",
    "# 그래프 표시\n",
    "plt.show()"
   ]
  },
  {
   "cell_type": "code",
   "execution_count": 17,
   "metadata": {},
   "outputs": [],
   "source": [
    "# 2014년~2022년 데이터만 선택\n",
    "criminalDF_long = criminalDF.melt(id_vars=['지역'], var_name='년도', value_name='범죄율')"
   ]
  },
  {
   "cell_type": "code",
   "execution_count": 18,
   "metadata": {},
   "outputs": [],
   "source": [
    "criminalDF_long['범죄율'] = criminalDF_long['범죄율'].astype(str).str.replace(',', '').astype(float)"
   ]
  },
  {
   "cell_type": "code",
   "execution_count": 19,
   "metadata": {},
   "outputs": [
    {
     "name": "stdout",
     "output_type": "stream",
     "text": [
      "   지역    년도     범죄율\n",
      "0  서울  2014  3903.2\n",
      "1  부산  2014  4285.4\n",
      "2  대구  2014  4180.7\n",
      "3  인천  2014  3628.7\n",
      "4  광주  2014  4731.0\n"
     ]
    }
   ],
   "source": [
    "print(criminalDF_long.head())"
   ]
  },
  {
   "cell_type": "code",
   "execution_count": 20,
   "metadata": {},
   "outputs": [
    {
     "data": {
      "image/png": "[encoded data removed]",
      "text/plain": [
       "<Figure size 640x480 with 1 Axes>"
      ]
     },
     "metadata": {},
     "output_type": "display_data"
    }
   ],
   "source": [
    "# 막대 그래프 그리기\n",
    "sns.barplot(data=criminalDF_long, x='년도', y='범죄율', hue='지역', palette='tab20')\n",
    "figsize = (30,6)\n",
    "# 그래프 제목 및 축 라벨 설정\n",
    "plt.title(\"2014년~2022년 지역별 범죄율 변화\", fontsize=14)\n",
    "plt.xlabel(\"년도\", fontsize=12)\n",
    "plt.ylabel(\"범죄율 (인구 10만 명당 건수)\", fontsize=12)\n",
    "plt.xticks(rotation=45)\n",
    "plt.legend(title=\"지역\", bbox_to_anchor=(1.05, 1), loc='upper left')\n",
    "plt.grid(axis='y', linestyle='--', alpha=0.7)"
   ]
  },
  {
   "cell_type": "code",
   "execution_count": 21,
   "metadata": {},
   "outputs": [
    {
     "name": "stdout",
     "output_type": "stream",
     "text": [
      "Requirement already satisfied: plotly in c:\\users\\kdp\\anaconda3\\envs\\py39\\lib\\site-packages (6.0.0)\n",
      "Requirement already satisfied: narwhals>=1.15.1 in c:\\users\\kdp\\anaconda3\\envs\\py39\\lib\\site-packages (from plotly) (1.24.1)\n",
      "Requirement already satisfied: packaging in c:\\users\\kdp\\anaconda3\\envs\\py39\\lib\\site-packages (from plotly) (24.2)\n",
      "Requirement already satisfied: nbformat in c:\\users\\kdp\\anaconda3\\envs\\py39\\lib\\site-packages (5.10.4)\n",
      "Requirement already satisfied: fastjsonschema>=2.15 in c:\\users\\kdp\\anaconda3\\envs\\py39\\lib\\site-packages (from nbformat) (2.21.1)\n",
      "Requirement already satisfied: jsonschema>=2.6 in c:\\users\\kdp\\anaconda3\\envs\\py39\\lib\\site-packages (from nbformat) (4.23.0)\n",
      "Requirement already satisfied: jupyter-core!=5.0.*,>=4.12 in c:\\users\\kdp\\anaconda3\\envs\\py39\\lib\\site-packages (from nbformat) (5.7.2)\n",
      "Requirement already satisfied: traitlets>=5.1 in c:\\users\\kdp\\anaconda3\\envs\\py39\\lib\\site-packages (from nbformat) (5.14.3)\n",
      "Requirement already satisfied: attrs>=22.2.0 in c:\\users\\kdp\\anaconda3\\envs\\py39\\lib\\site-packages (from jsonschema>=2.6->nbformat) (25.1.0)\n",
      "Requirement already satisfied: jsonschema-specifications>=2023.03.6 in c:\\users\\kdp\\anaconda3\\envs\\py39\\lib\\site-packages (from jsonschema>=2.6->nbformat) (2024.10.1)\n",
      "Requirement already satisfied: referencing>=0.28.4 in c:\\users\\kdp\\anaconda3\\envs\\py39\\lib\\site-packages (from jsonschema>=2.6->nbformat) (0.36.2)\n",
      "Requirement already satisfied: rpds-py>=0.7.1 in c:\\users\\kdp\\anaconda3\\envs\\py39\\lib\\site-packages (from jsonschema>=2.6->nbformat) (0.22.3)\n",
      "Requirement already satisfied: platformdirs>=2.5 in c:\\users\\kdp\\anaconda3\\envs\\py39\\lib\\site-packages (from jupyter-core!=5.0.*,>=4.12->nbformat) (4.3.6)\n",
      "Requirement already satisfied: pywin32>=300 in c:\\users\\kdp\\anaconda3\\envs\\py39\\lib\\site-packages (from jupyter-core!=5.0.*,>=4.12->nbformat) (304)\n",
      "Requirement already satisfied: typing-extensions>=4.4.0 in c:\\users\\kdp\\anaconda3\\envs\\py39\\lib\\site-packages (from referencing>=0.28.4->jsonschema>=2.6->nbformat) (4.12.2)\n"
     ]
    }
   ],
   "source": [
    "!pip install plotly\n",
    "import plotly.express as px\n",
    "!pip install -U nbformat"
   ]
  },
  {
   "cell_type": "code",
   "execution_count": 22,
   "metadata": {},
   "outputs": [],
   "source": [
    "criminalDF_long = criminalDF_long.groupby(['지역','년도'])['범죄율'].mean().reset_index()\n"
   ]
  },
  {
   "cell_type": "code",
   "execution_count": 23,
   "metadata": {},
   "outputs": [],
   "source": [
    "fig= px.bar(data_frame=criminalDF_long, x='지역', y='범죄율', animation_frame='년도', title = \"[지역별 년도별 범죄율]\",color='범죄율',color_continuous_scale= 'greens')\n",
    "# plotly 홈페이지 참고"
   ]
  },
  {
   "cell_type": "code",
   "execution_count": 24,
   "metadata": {},
   "outputs": [
    {
     "data": {
      "application/vnd.plotly.v1+json": {
       "config": {
        "plotlyServerURL": "https://plot.ly"
       },
       "data": [
        {
         "hovertemplate": "년도=2014<br>지역=%{x}<br>범죄율=%{marker.color}<extra></extra>",
         "legendgroup": "",
         "marker": {
          "color": {
           "bdata": "ZmZmZmZnrkAzMzMzMyysQJqZmZmZ0KxAzczMzMzvq0AAAAAAAHuyQDMzMzOzVLBAZmZmZmZGqUBmZmZmZr2wQGZmZmZmfq5AMzMzMzPtpUAzMzMzM9+uQGZmZmZmWaxAMzMzMzNVr0AAAAAAAMaqQJqZmZmZlbVAzczMzMzirEBmZmZmZnCrQA==",
           "dtype": "f8"
          },
          "coloraxis": "coloraxis",
          "pattern": {
           "shape": ""
          }
         },
         "name": "",
         "orientation": "v",
         "showlegend": false,
         "textposition": "auto",
         "type": "bar",
         "x": [
          "강원",
          "경기",
          "경남",
          "경북",
          "광주",
          "대구",
          "대전",
          "부산",
          "서울",
          "세종",
          "울산",
          "인천",
          "전남",
          "전북",
          "제주",
          "충남",
          "충북"
         ],
         "xaxis": "x",
         "y": {
          "bdata": "ZmZmZmZnrkAzMzMzMyysQJqZmZmZ0KxAzczMzMzvq0AAAAAAAHuyQDMzMzOzVLBAZmZmZmZGqUBmZmZmZr2wQGZmZmZmfq5AMzMzMzPtpUAzMzMzM9+uQGZmZmZmWaxAMzMzMzNVr0AAAAAAAMaqQJqZmZmZlbVAzczMzMzirEBmZmZmZnCrQA==",
          "dtype": "f8"
         },
         "yaxis": "y"
        }
       ],
       "frames": [
        {
         "data": [
          {
           "hovertemplate": "년도=2014<br>지역=%{x}<br>범죄율=%{marker.color}<extra></extra>",
           "legendgroup": "",
           "marker": {
            "color": {
             "bdata": "ZmZmZmZnrkAzMzMzMyysQJqZmZmZ0KxAzczMzMzvq0AAAAAAAHuyQDMzMzOzVLBAZmZmZmZGqUBmZmZmZr2wQGZmZmZmfq5AMzMzMzPtpUAzMzMzM9+uQGZmZmZmWaxAMzMzMzNVr0AAAAAAAMaqQJqZmZmZlbVAzczMzMzirEBmZmZmZnCrQA==",
             "dtype": "f8"
            },
            "coloraxis": "coloraxis",
            "pattern": {
             "shape": ""
            }
           },
           "name": "",
           "orientation": "v",
           "showlegend": false,
           "textposition": "auto",
           "type": "bar",
           "x": [
            "강원",
            "경기",
            "경남",
            "경북",
            "광주",
            "대구",
            "대전",
            "부산",
            "서울",
            "세종",
            "울산",
            "인천",
            "전남",
            "전북",
            "제주",
            "충남",
            "충북"
           ],
           "xaxis": "x",
           "y": {
            "bdata": "ZmZmZmZnrkAzMzMzMyysQJqZmZmZ0KxAzczMzMzvq0AAAAAAAHuyQDMzMzOzVLBAZmZmZmZGqUBmZmZmZr2wQGZmZmZmfq5AMzMzMzPtpUAzMzMzM9+uQGZmZmZmWaxAMzMzMzNVr0AAAAAAAMaqQJqZmZmZlbVAzczMzMzirEBmZmZmZnCrQA==",
            "dtype": "f8"
           },
           "yaxis": "y"
          }
         ],
         "name": "2014"
        },
        {
         "data": [
          {
           "hovertemplate": "년도=2015<br>지역=%{x}<br>범죄율=%{marker.color}<extra></extra>",
           "legendgroup": "",
           "marker": {
            "color": {
             "bdata": "AAAAAABKsEDNzMzMzL2tQJqZmZkZALFAMzMzMzMbrUAzMzMzM2qxQDMzMzOzC7FAzczMzMxvqkAAAAAAgLSxQJqZmZmZX65AZmZmZmZDoEAAAAAAAPimQDMzMzMz361AAAAAAIBTsUDNzMzMzParQAAAAAAAXLdAzczMzMx3rkAzMzMzM6esQA==",
             "dtype": "f8"
            },
            "coloraxis": "coloraxis",
            "pattern": {
             "shape": ""
            }
           },
           "name": "",
           "orientation": "v",
           "showlegend": false,
           "textposition": "auto",
           "type": "bar",
           "x": [
            "강원",
            "경기",
            "경남",
            "경북",
            "광주",
            "대구",
            "대전",
            "부산",
            "서울",
            "세종",
            "울산",
            "인천",
            "전남",
            "전북",
            "제주",
            "충남",
            "충북"
           ],
           "xaxis": "x",
           "y": {
            "bdata": "AAAAAABKsEDNzMzMzL2tQJqZmZkZALFAMzMzMzMbrUAzMzMzM2qxQDMzMzOzC7FAzczMzMxvqkAAAAAAgLSxQJqZmZmZX65AZmZmZmZDoEAAAAAAAPimQDMzMzMz361AAAAAAIBTsUDNzMzMzParQAAAAAAAXLdAzczMzMx3rkAzMzMzM6esQA==",
            "dtype": "f8"
           },
           "yaxis": "y"
          }
         ],
         "name": "2015"
        },
        {
         "data": [
          {
           "hovertemplate": "년도=2016<br>지역=%{x}<br>범죄율=%{marker.color}<extra></extra>",
           "legendgroup": "",
           "marker": {
            "color": {
             "bdata": "AAAAAACksEDNzMzMTDewQM3MzMzMxLBAAAAAAAADrECamZmZmWOvQAAAAAAAv61AmpmZmZlKqkAzMzMzs1KwQM3MzMzMla1AAAAAAAC+n0DNzMzMzNejQAAAAAAAcq1AzczMzMw8sEDNzMzMzJCqQGZmZmbmordAMzMzMzO1rEBmZmZmZiOuQA==",
             "dtype": "f8"
            },
            "coloraxis": "coloraxis",
            "pattern": {
             "shape": ""
            }
           },
           "name": "",
           "orientation": "v",
           "showlegend": false,
           "textposition": "auto",
           "type": "bar",
           "x": [
            "강원",
            "경기",
            "경남",
            "경북",
            "광주",
            "대구",
            "대전",
            "부산",
            "서울",
            "세종",
            "울산",
            "인천",
            "전남",
            "전북",
            "제주",
            "충남",
            "충북"
           ],
           "xaxis": "x",
           "y": {
            "bdata": "AAAAAACksEDNzMzMTDewQM3MzMzMxLBAAAAAAAADrECamZmZmWOvQAAAAAAAv61AmpmZmZlKqkAzMzMzs1KwQM3MzMzMla1AAAAAAAC+n0DNzMzMzNejQAAAAAAAcq1AzczMzMw8sEDNzMzMzJCqQGZmZmbmordAMzMzMzO1rEBmZmZmZiOuQA==",
            "dtype": "f8"
           },
           "yaxis": "y"
          }
         ],
         "name": "2016"
        },
        {
         "data": [
          {
           "hovertemplate": "년도=2017<br>지역=%{x}<br>범죄율=%{marker.color}<extra></extra>",
           "legendgroup": "",
           "marker": {
            "color": {
             "bdata": "mpmZmZlBrkDNzMzMzBmsQAAAAAAAyK1AmpmZmZkBqkAAAAAAAIqsQJqZmZmZJ6pAMzMzMzPAqUAzMzMzM7GtQAAAAAAAMqxAMzMzMzOPnUDNzMzMzOehQJqZmZmZIKtAmpmZmZkfrECamZmZmXSoQGZmZmbmBrVAzczMzMzDqkAAAAAAAKarQA==",
             "dtype": "f8"
            },
            "coloraxis": "coloraxis",
            "pattern": {
             "shape": ""
            }
           },
           "name": "",
           "orientation": "v",
           "showlegend": false,
           "textposition": "auto",
           "type": "bar",
           "x": [
            "강원",
            "경기",
            "경남",
            "경북",
            "광주",
            "대구",
            "대전",
            "부산",
            "서울",
            "세종",
            "울산",
            "인천",
            "전남",
            "전북",
            "제주",
            "충남",
            "충북"
           ],
           "xaxis": "x",
           "y": {
            "bdata": "mpmZmZlBrkDNzMzMzBmsQAAAAAAAyK1AmpmZmZkBqkAAAAAAAIqsQJqZmZmZJ6pAMzMzMzPAqUAzMzMzM7GtQAAAAAAAMqxAMzMzMzOPnUDNzMzMzOehQJqZmZmZIKtAmpmZmZkfrECamZmZmXSoQGZmZmbmBrVAzczMzMzDqkAAAAAAAKarQA==",
            "dtype": "f8"
           },
           "yaxis": "y"
          }
         ],
         "name": "2017"
        },
        {
         "data": [
          {
           "hovertemplate": "년도=2018<br>지역=%{x}<br>범죄율=%{marker.color}<extra></extra>",
           "legendgroup": "",
           "marker": {
            "color": {
             "bdata": "mpmZmZn0qkAzMzMzM8mpQM3MzMzMVKtAZmZmZmbuqEDNzMzMzOKqQAAAAAAAXKlAZmZmZmbgqEBmZmZmZvqsQM3MzMzMfqtAMzMzMzOPm0CamZmZmSmhQM3MzMzMLKlAzczMzMysrECamZmZmSeoQAAAAACA97FAAAAAAAAPq0BmZmZmZuipQA==",
             "dtype": "f8"
            },
            "coloraxis": "coloraxis",
            "pattern": {
             "shape": ""
            }
           },
           "name": "",
           "orientation": "v",
           "showlegend": false,
           "textposition": "auto",
           "type": "bar",
           "x": [
            "강원",
            "경기",
            "경남",
            "경북",
            "광주",
            "대구",
            "대전",
            "부산",
            "서울",
            "세종",
            "울산",
            "인천",
            "전남",
            "전북",
            "제주",
            "충남",
            "충북"
           ],
           "xaxis": "x",
           "y": {
            "bdata": "mpmZmZn0qkAzMzMzM8mpQM3MzMzMVKtAZmZmZmbuqEDNzMzMzOKqQAAAAAAAXKlAZmZmZmbgqEBmZmZmZvqsQM3MzMzMfqtAMzMzMzOPm0CamZmZmSmhQM3MzMzMLKlAzczMzMysrECamZmZmSeoQAAAAACA97FAAAAAAAAPq0BmZmZmZuipQA==",
            "dtype": "f8"
           },
           "yaxis": "y"
          }
         ],
         "name": "2018"
        },
        {
         "data": [
          {
           "hovertemplate": "년도=2019<br>지역=%{x}<br>범죄율=%{marker.color}<extra></extra>",
           "legendgroup": "",
           "marker": {
            "color": {
             "bdata": "MzMzMzNjq0CamZmZmZOpQDMzMzMz6qxAZmZmZmbEqUAAAAAAALerQGZmZmZmlKpAzczMzMzoqEAzMzMzM76tQM3MzMzMi6tAmpmZmZnhnUAAAAAAAJqhQAAAAAAAzqpAAAAAAADgrUAzMzMzMwOpQAAAAAAAqrBAAAAAAABYqkBmZmZmZsypQA==",
             "dtype": "f8"
            },
            "coloraxis": "coloraxis",
            "pattern": {
             "shape": ""
            }
           },
           "name": "",
           "orientation": "v",
           "showlegend": false,
           "textposition": "auto",
           "type": "bar",
           "x": [
            "강원",
            "경기",
            "경남",
            "경북",
            "광주",
            "대구",
            "대전",
            "부산",
            "서울",
            "세종",
            "울산",
            "인천",
            "전남",
            "전북",
            "제주",
            "충남",
            "충북"
           ],
           "xaxis": "x",
           "y": {
            "bdata": "MzMzMzNjq0CamZmZmZOpQDMzMzMz6qxAZmZmZmbEqUAAAAAAALerQGZmZmZmlKpAzczMzMzoqEAzMzMzM76tQM3MzMzMi6tAmpmZmZnhnUAAAAAAAJqhQAAAAAAAzqpAAAAAAADgrUAzMzMzMwOpQAAAAAAAqrBAAAAAAABYqkBmZmZmZsypQA==",
            "dtype": "f8"
           },
           "yaxis": "y"
          }
         ],
         "name": "2019"
        },
        {
         "data": [
          {
           "hovertemplate": "년도=2020<br>지역=%{x}<br>범죄율=%{marker.color}<extra></extra>",
           "legendgroup": "",
           "marker": {
            "color": {
             "bdata": "MzMzMzOBqkAzMzMzM/GoQDMzMzMz3axAmpmZmZmvqEAzMzMzM1WqQJqZmZmZn6lAZmZmZmaXqEBmZmZmZrmtQGZmZmZm26lAAAAAAADWnUAAAAAAABahQDMzMzMzgalAAAAAAABjrUDNzMzMzFGoQAAAAAAAHbFAmpmZmZnJqUCamZmZmb2oQA==",
             "dtype": "f8"
            },
            "coloraxis": "coloraxis",
            "pattern": {
             "shape": ""
            }
           },
           "name": "",
           "orientation": "v",
           "showlegend": false,
           "textposition": "auto",
           "type": "bar",
           "x": [
            "강원",
            "경기",
            "경남",
            "경북",
            "광주",
            "대구",
            "대전",
            "부산",
            "서울",
            "세종",
            "울산",
            "인천",
            "전남",
            "전북",
            "제주",
            "충남",
            "충북"
           ],
           "xaxis": "x",
           "y": {
            "bdata": "MzMzMzOBqkAzMzMzM/GoQDMzMzMz3axAmpmZmZmvqEAzMzMzM1WqQJqZmZmZn6lAZmZmZmaXqEBmZmZmZrmtQGZmZmZm26lAAAAAAADWnUAAAAAAABahQDMzMzMzgalAAAAAAABjrUDNzMzMzFGoQAAAAAAAHbFAmpmZmZnJqUCamZmZmb2oQA==",
            "dtype": "f8"
           },
           "yaxis": "y"
          }
         ],
         "name": "2020"
        },
        {
         "data": [
          {
           "hovertemplate": "년도=2021<br>지역=%{x}<br>범죄율=%{marker.color}<extra></extra>",
           "legendgroup": "",
           "marker": {
            "color": {
             "bdata": "mpmZmZlTp0AAAAAAAEWmQM3MzMzMKapAZmZmZmZGpkDNzMzMzLmnQGZmZmZmq6dAZmZmZmYlpkDNzMzMzKmqQAAAAAAAmaZAMzMzMzM7mkAzMzMzM1CgQM3MzMzMsaZAZmZmZmZhqkAAAAAAAOamQJqZmZmZwK5AmpmZmZm3pkAAAAAAAIGmQA==",
             "dtype": "f8"
            },
            "coloraxis": "coloraxis",
            "pattern": {
             "shape": ""
            }
           },
           "name": "",
           "orientation": "v",
           "showlegend": false,
           "textposition": "auto",
           "type": "bar",
           "x": [
            "강원",
            "경기",
            "경남",
            "경북",
            "광주",
            "대구",
            "대전",
            "부산",
            "서울",
            "세종",
            "울산",
            "인천",
            "전남",
            "전북",
            "제주",
            "충남",
            "충북"
           ],
           "xaxis": "x",
           "y": {
            "bdata": "mpmZmZlTp0AAAAAAAEWmQM3MzMzMKapAZmZmZmZGpkDNzMzMzLmnQGZmZmZmq6dAZmZmZmYlpkDNzMzMzKmqQAAAAAAAmaZAMzMzMzM7mkAzMzMzM1CgQM3MzMzMsaZAZmZmZmZhqkAAAAAAAOamQJqZmZmZwK5AmpmZmZm3pkAAAAAAAIGmQA==",
            "dtype": "f8"
           },
           "yaxis": "y"
          }
         ],
         "name": "2021"
        },
        {
         "data": [
          {
           "hovertemplate": "년도=2022<br>지역=%{x}<br>범죄율=%{marker.color}<extra></extra>",
           "legendgroup": "",
           "marker": {
            "color": {
             "bdata": "MzMzMzOSp0DNzMzMzFWmQM3MzMzMeqpAAAAAAAB4p0CamZmZme+mQAAAAAAAmadAMzMzMzM8qEDNzMzMzPirQJqZmZmZh6hAAAAAAAAynECamZmZmfWYQJqZmZmZD6hAmpmZmZkvq0AAAAAAAJWnQDMzMzMzxa9AmpmZmZlOqECamZmZmaGmQA==",
             "dtype": "f8"
            },
            "coloraxis": "coloraxis",
            "pattern": {
             "shape": ""
            }
           },
           "name": "",
           "orientation": "v",
           "showlegend": false,
           "textposition": "auto",
           "type": "bar",
           "x": [
            "강원",
            "경기",
            "경남",
            "경북",
            "광주",
            "대구",
            "대전",
            "부산",
            "서울",
            "세종",
            "울산",
            "인천",
            "전남",
            "전북",
            "제주",
            "충남",
            "충북"
           ],
           "xaxis": "x",
           "y": {
            "bdata": "MzMzMzOSp0DNzMzMzFWmQM3MzMzMeqpAAAAAAAB4p0CamZmZme+mQAAAAAAAmadAMzMzMzM8qEDNzMzMzPirQJqZmZmZh6hAAAAAAAAynECamZmZmfWYQJqZmZmZD6hAmpmZmZkvq0AAAAAAAJWnQDMzMzMzxa9AmpmZmZlOqECamZmZmaGmQA==",
            "dtype": "f8"
           },
           "yaxis": "y"
          }
         ],
         "name": "2022"
        }
       ],
       "layout": {
        "barmode": "relative",
        "coloraxis": {
         "colorbar": {
          "title": {
           "text": "범죄율"
          }
         },
         "colorscale": [
          [
           0,
           "rgb(247,252,245)"
          ],
          [
           0.125,
           "rgb(229,245,224)"
          ],
          [
           0.25,
           "rgb(199,233,192)"
          ],
          [
           0.375,
           "rgb(161,217,155)"
          ],
          [
           0.5,
           "rgb(116,196,118)"
          ],
          [
           0.625,
           "rgb(65,171,93)"
          ],
          [
           0.75,
           "rgb(35,139,69)"
          ],
          [
           0.875,
           "rgb(0,109,44)"
          ],
          [
           1,
           "rgb(0,68,27)"
          ]
         ]
        },
        "legend": {
         "tracegroupgap": 0
        },
        "sliders": [
         {
          "active": 0,
          "currentvalue": {
           "prefix": "년도="
          },
          "len": 0.9,
          "pad": {
           "b": 10,
           "t": 60
          },
          "steps": [
           {
            "args": [
             [
              "2014"
             ],
             {
              "frame": {
               "duration": 0,
               "redraw": true
              },
              "fromcurrent": true,
              "mode": "immediate",
              "transition": {
               "duration": 0,
               "easing": "linear"
              }
             }
            ],
            "label": "2014",
            "method": "animate"
           },
           {
            "args": [
             [
              "2015"
             ],
             {
              "frame": {
               "duration": 0,
               "redraw": true
              },
              "fromcurrent": true,
              "mode": "immediate",
              "transition": {
               "duration": 0,
               "easing": "linear"
              }
             }
            ],
            "label": "2015",
            "method": "animate"
           },
           {
            "args": [
             [
              "2016"
             ],
             {
              "frame": {
               "duration": 0,
               "redraw": true
              },
              "fromcurrent": true,
              "mode": "immediate",
              "transition": {
               "duration": 0,
               "easing": "linear"
              }
             }
            ],
            "label": "2016",
            "method": "animate"
           },
           {
            "args": [
             [
              "2017"
             ],
             {
              "frame": {
               "duration": 0,
               "redraw": true
              },
              "fromcurrent": true,
              "mode": "immediate",
              "transition": {
               "duration": 0,
               "easing": "linear"
              }
             }
            ],
            "label": "2017",
            "method": "animate"
           },
           {
            "args": [
             [
              "2018"
             ],
             {
              "frame": {
               "duration": 0,
               "redraw": true
              },
              "fromcurrent": true,
              "mode": "immediate",
              "transition": {
               "duration": 0,
               "easing": "linear"
              }
             }
            ],
            "label": "2018",
            "method": "animate"
           },
           {
            "args": [
             [
              "2019"
             ],
             {
              "frame": {
               "duration": 0,
               "redraw": true
              },
              "fromcurrent": true,
              "mode": "immediate",
              "transition": {
               "duration": 0,
               "easing": "linear"
              }
             }
            ],
            "label": "2019",
            "method": "animate"
           },
           {
            "args": [
             [
              "2020"
             ],
             {
              "frame": {
               "duration": 0,
               "redraw": true
              },
              "fromcurrent": true,
              "mode": "immediate",
              "transition": {
               "duration": 0,
               "easing": "linear"
              }
             }
            ],
            "label": "2020",
            "method": "animate"
           },
           {
            "args": [
             [
              "2021"
             ],
             {
              "frame": {
               "duration": 0,
               "redraw": true
              },
              "fromcurrent": true,
              "mode": "immediate",
              "transition": {
               "duration": 0,
               "easing": "linear"
              }
             }
            ],
            "label": "2021",
            "method": "animate"
           },
           {
            "args": [
             [
              "2022"
             ],
             {
              "frame": {
               "duration": 0,
               "redraw": true
              },
              "fromcurrent": true,
              "mode": "immediate",
              "transition": {
               "duration": 0,
               "easing": "linear"
              }
             }
            ],
            "label": "2022",
            "method": "animate"
           }
          ],
          "x": 0.1,
          "xanchor": "left",
          "y": 0,
          "yanchor": "top"
         }
        ],
        "template": {
         "data": {
          "bar": [
           {
            "error_x": {
             "color": "#2a3f5f"
            },
            "error_y": {
             "color": "#2a3f5f"
            },
            "marker": {
             "line": {
              "color": "#E5ECF6",
              "width": 0.5
             },
             "pattern": {
              "fillmode": "overlay",
              "size": 10,
              "solidity": 0.2
             }
            },
            "type": "bar"
           }
          ],
          "barpolar": [
           {
            "marker": {
             "line": {
              "color": "#E5ECF6",
              "width": 0.5
             },
             "pattern": {
              "fillmode": "overlay",
              "size": 10,
              "solidity": 0.2
             }
            },
            "type": "barpolar"
           }
          ],
          "carpet": [
           {
            "aaxis": {
             "endlinecolor": "#2a3f5f",
             "gridcolor": "white",
             "linecolor": "white",
             "minorgridcolor": "white",
             "startlinecolor": "#2a3f5f"
            },
            "baxis": {
             "endlinecolor": "#2a3f5f",
             "gridcolor": "white",
             "linecolor": "white",
             "minorgridcolor": "white",
             "startlinecolor": "#2a3f5f"
            },
            "type": "carpet"
           }
          ],
          "choropleth": [
           {
            "colorbar": {
             "outlinewidth": 0,
             "ticks": ""
            },
            "type": "choropleth"
           }
          ],
          "contour": [
           {
            "colorbar": {
             "outlinewidth": 0,
             "ticks": ""
            },
            "colorscale": [
             [
              0,
              "#0d0887"
             ],
             [
              0.1111111111111111,
              "#46039f"
             ],
             [
              0.2222222222222222,
              "#7201a8"
             ],
             [
              0.3333333333333333,
              "#9c179e"
             ],
             [
              0.4444444444444444,
              "#bd3786"
             ],
             [
              0.5555555555555556,
              "#d8576b"
             ],
             [
              0.6666666666666666,
              "#ed7953"
             ],
             [
              0.7777777777777778,
              "#fb9f3a"
             ],
             [
              0.8888888888888888,
              "#fdca26"
             ],
             [
              1,
              "#f0f921"
             ]
            ],
            "type": "contour"
           }
          ],
          "contourcarpet": [
           {
            "colorbar": {
             "outlinewidth": 0,
             "ticks": ""
            },
            "type": "contourcarpet"
           }
          ],
          "heatmap": [
           {
            "colorbar": {
             "outlinewidth": 0,
             "ticks": ""
            },
            "colorscale": [
             [
              0,
              "#0d0887"
             ],
             [
              0.1111111111111111,
              "#46039f"
             ],
             [
              0.2222222222222222,
              "#7201a8"
             ],
             [
              0.3333333333333333,
              "#9c179e"
             ],
             [
              0.4444444444444444,
              "#bd3786"
             ],
             [
              0.5555555555555556,
              "#d8576b"
             ],
             [
              0.6666666666666666,
              "#ed7953"
             ],
             [
              0.7777777777777778,
              "#fb9f3a"
             ],
             [
              0.8888888888888888,
              "#fdca26"
             ],
             [
              1,
              "#f0f921"
             ]
            ],
            "type": "heatmap"
           }
          ],
          "histogram": [
           {
            "marker": {
             "pattern": {
              "fillmode": "overlay",
              "size": 10,
              "solidity": 0.2
             }
            },
            "type": "histogram"
           }
          ],
          "histogram2d": [
           {
            "colorbar": {
             "outlinewidth": 0,
             "ticks": ""
            },
            "colorscale": [
             [
              0,
              "#0d0887"
             ],
             [
              0.1111111111111111,
              "#46039f"
             ],
             [
              0.2222222222222222,
              "#7201a8"
             ],
             [
              0.3333333333333333,
              "#9c179e"
             ],
             [
              0.4444444444444444,
              "#bd3786"
             ],
             [
              0.5555555555555556,
              "#d8576b"
             ],
             [
              0.6666666666666666,
              "#ed7953"
             ],
             [
              0.7777777777777778,
              "#fb9f3a"
             ],
             [
              0.8888888888888888,
              "#fdca26"
             ],
             [
              1,
              "#f0f921"
             ]
            ],
            "type": "histogram2d"
           }
          ],
          "histogram2dcontour": [
           {
            "colorbar": {
             "outlinewidth": 0,
             "ticks": ""
            },
            "colorscale": [
             [
              0,
              "#0d0887"
             ],
             [
              0.1111111111111111,
              "#46039f"
             ],
             [
              0.2222222222222222,
              "#7201a8"
             ],
             [
              0.3333333333333333,
              "#9c179e"
             ],
             [
              0.4444444444444444,
              "#bd3786"
             ],
             [
              0.5555555555555556,
              "#d8576b"
             ],
             [
              0.6666666666666666,
              "#ed7953"
             ],
             [
              0.7777777777777778,
              "#fb9f3a"
             ],
             [
              0.8888888888888888,
              "#fdca26"
             ],
             [
              1,
              "#f0f921"
             ]
            ],
            "type": "histogram2dcontour"
           }
          ],
          "mesh3d": [
           {
            "colorbar": {
             "outlinewidth": 0,
             "ticks": ""
            },
            "type": "mesh3d"
           }
          ],
          "parcoords": [
           {
            "line": {
             "colorbar": {
              "outlinewidth": 0,
              "ticks": ""
             }
            },
            "type": "parcoords"
           }
          ],
          "pie": [
           {
            "automargin": true,
            "type": "pie"
           }
          ],
          "scatter": [
           {
            "fillpattern": {
             "fillmode": "overlay",
             "size": 10,
             "solidity": 0.2
            },
            "type": "scatter"
           }
          ],
          "scatter3d": [
           {
            "line": {
             "colorbar": {
              "outlinewidth": 0,
              "ticks": ""
             }
            },
            "marker": {
             "colorbar": {
              "outlinewidth": 0,
              "ticks": ""
             }
            },
            "type": "scatter3d"
           }
          ],
          "scattercarpet": [
           {
            "marker": {
             "colorbar": {
              "outlinewidth": 0,
              "ticks": ""
             }
            },
            "type": "scattercarpet"
           }
          ],
          "scattergeo": [
           {
            "marker": {
             "colorbar": {
              "outlinewidth": 0,
              "ticks": ""
             }
            },
            "type": "scattergeo"
           }
          ],
          "scattergl": [
           {
            "marker": {
             "colorbar": {
              "outlinewidth": 0,
              "ticks": ""
             }
            },
            "type": "scattergl"
           }
          ],
          "scattermap": [
           {
            "marker": {
             "colorbar": {
              "outlinewidth": 0,
              "ticks": ""
             }
            },
            "type": "scattermap"
           }
          ],
          "scattermapbox": [
           {
            "marker": {
             "colorbar": {
              "outlinewidth": 0,
              "ticks": ""
             }
            },
            "type": "scattermapbox"
           }
          ],
          "scatterpolar": [
           {
            "marker": {
             "colorbar": {
              "outlinewidth": 0,
              "ticks": ""
             }
            },
            "type": "scatterpolar"
           }
          ],
          "scatterpolargl": [
           {
            "marker": {
             "colorbar": {
              "outlinewidth": 0,
              "ticks": ""
             }
            },
            "type": "scatterpolargl"
           }
          ],
          "scatterternary": [
           {
            "marker": {
             "colorbar": {
              "outlinewidth": 0,
              "ticks": ""
             }
            },
            "type": "scatterternary"
           }
          ],
          "surface": [
           {
            "colorbar": {
             "outlinewidth": 0,
             "ticks": ""
            },
            "colorscale": [
             [
              0,
              "#0d0887"
             ],
             [
              0.1111111111111111,
              "#46039f"
             ],
             [
              0.2222222222222222,
              "#7201a8"
             ],
             [
              0.3333333333333333,
              "#9c179e"
             ],
             [
              0.4444444444444444,
              "#bd3786"
             ],
             [
              0.5555555555555556,
              "#d8576b"
             ],
             [
              0.6666666666666666,
              "#ed7953"
             ],
             [
              0.7777777777777778,
              "#fb9f3a"
             ],
             [
              0.8888888888888888,
              "#fdca26"
             ],
             [
              1,
              "#f0f921"
             ]
            ],
            "type": "surface"
           }
          ],
          "table": [
           {
            "cells": {
             "fill": {
              "color": "#EBF0F8"
             },
             "line": {
              "color": "white"
             }
            },
            "header": {
             "fill": {
              "color": "#C8D4E3"
             },
             "line": {
              "color": "white"
             }
            },
            "type": "table"
           }
          ]
         },
         "layout": {
          "annotationdefaults": {
           "arrowcolor": "#2a3f5f",
           "arrowhead": 0,
           "arrowwidth": 1
          },
          "autotypenumbers": "strict",
          "coloraxis": {
           "colorbar": {
            "outlinewidth": 0,
            "ticks": ""
           }
          },
          "colorscale": {
           "diverging": [
            [
             0,
             "#8e0152"
            ],
            [
             0.1,
             "#c51b7d"
            ],
            [
             0.2,
             "#de77ae"
            ],
            [
             0.3,
             "#f1b6da"
            ],
            [
             0.4,
             "#fde0ef"
            ],
            [
             0.5,
             "#f7f7f7"
            ],
            [
             0.6,
             "#e6f5d0"
            ],
            [
             0.7,
             "#b8e186"
            ],
            [
             0.8,
             "#7fbc41"
            ],
            [
             0.9,
             "#4d9221"
            ],
            [
             1,
             "#276419"
            ]
           ],
           "sequential": [
            [
             0,
             "#0d0887"
            ],
            [
             0.1111111111111111,
             "#46039f"
            ],
            [
             0.2222222222222222,
             "#7201a8"
            ],
            [
             0.3333333333333333,
             "#9c179e"
            ],
            [
             0.4444444444444444,
             "#bd3786"
            ],
            [
             0.5555555555555556,
             "#d8576b"
            ],
            [
             0.6666666666666666,
             "#ed7953"
            ],
            [
             0.7777777777777778,
             "#fb9f3a"
            ],
            [
             0.8888888888888888,
             "#fdca26"
            ],
            [
             1,
             "#f0f921"
            ]
           ],
           "sequentialminus": [
            [
             0,
             "#0d0887"
            ],
            [
             0.1111111111111111,
             "#46039f"
            ],
            [
             0.2222222222222222,
             "#7201a8"
            ],
            [
             0.3333333333333333,
             "#9c179e"
            ],
            [
             0.4444444444444444,
             "#bd3786"
            ],
            [
             0.5555555555555556,
             "#d8576b"
            ],
            [
             0.6666666666666666,
             "#ed7953"
            ],
            [
             0.7777777777777778,
             "#fb9f3a"
            ],
            [
             0.8888888888888888,
             "#fdca26"
            ],
            [
             1,
             "#f0f921"
            ]
           ]
          },
          "colorway": [
           "#636efa",
           "#EF553B",
           "#00cc96",
           "#ab63fa",
           "#FFA15A",
           "#19d3f3",
           "#FF6692",
           "#B6E880",
           "#FF97FF",
           "#FECB52"
          ],
          "font": {
           "color": "#2a3f5f"
          },
          "geo": {
           "bgcolor": "white",
           "lakecolor": "white",
           "landcolor": "#E5ECF6",
           "showlakes": true,
           "showland": true,
           "subunitcolor": "white"
          },
          "hoverlabel": {
           "align": "left"
          },
          "hovermode": "closest",
          "mapbox": {
           "style": "light"
          },
          "paper_bgcolor": "white",
          "plot_bgcolor": "#E5ECF6",
          "polar": {
           "angularaxis": {
            "gridcolor": "white",
            "linecolor": "white",
            "ticks": ""
           },
           "bgcolor": "#E5ECF6",
           "radialaxis": {
            "gridcolor": "white",
            "linecolor": "white",
            "ticks": ""
           }
          },
          "scene": {
           "xaxis": {
            "backgroundcolor": "#E5ECF6",
            "gridcolor": "white",
            "gridwidth": 2,
            "linecolor": "white",
            "showbackground": true,
            "ticks": "",
            "zerolinecolor": "white"
           },
           "yaxis": {
            "backgroundcolor": "#E5ECF6",
            "gridcolor": "white",
            "gridwidth": 2,
            "linecolor": "white",
            "showbackground": true,
            "ticks": "",
            "zerolinecolor": "white"
           },
           "zaxis": {
            "backgroundcolor": "#E5ECF6",
            "gridcolor": "white",
            "gridwidth": 2,
            "linecolor": "white",
            "showbackground": true,
            "ticks": "",
            "zerolinecolor": "white"
           }
          },
          "shapedefaults": {
           "line": {
            "color": "#2a3f5f"
           }
          },
          "ternary": {
           "aaxis": {
            "gridcolor": "white",
            "linecolor": "white",
            "ticks": ""
           },
           "baxis": {
            "gridcolor": "white",
            "linecolor": "white",
            "ticks": ""
           },
           "bgcolor": "#E5ECF6",
           "caxis": {
            "gridcolor": "white",
            "linecolor": "white",
            "ticks": ""
           }
          },
          "title": {
           "x": 0.05
          },
          "xaxis": {
           "automargin": true,
           "gridcolor": "white",
           "linecolor": "white",
           "ticks": "",
           "title": {
            "standoff": 15
           },
           "zerolinecolor": "white",
           "zerolinewidth": 2
          },
          "yaxis": {
           "automargin": true,
           "gridcolor": "white",
           "linecolor": "white",
           "ticks": "",
           "title": {
            "standoff": 15
           },
           "zerolinecolor": "white",
           "zerolinewidth": 2
          }
         }
        },
        "title": {
         "text": "[지역별 년도별 범죄율]"
        },
        "updatemenus": [
         {
          "buttons": [
           {
            "args": [
             null,
             {
              "frame": {
               "duration": 500,
               "redraw": true
              },
              "fromcurrent": true,
              "mode": "immediate",
              "transition": {
               "duration": 500,
               "easing": "linear"
              }
             }
            ],
            "label": "&#9654;",
            "method": "animate"
           },
           {
            "args": [
             [
              null
             ],
             {
              "frame": {
               "duration": 0,
               "redraw": true
              },
              "fromcurrent": true,
              "mode": "immediate",
              "transition": {
               "duration": 0,
               "easing": "linear"
              }
             }
            ],
            "label": "&#9724;",
            "method": "animate"
           }
          ],
          "direction": "left",
          "pad": {
           "r": 10,
           "t": 70
          },
          "showactive": false,
          "type": "buttons",
          "x": 0.1,
          "xanchor": "right",
          "y": 0,
          "yanchor": "top"
         }
        ],
        "xaxis": {
         "anchor": "y",
         "domain": [
          0,
          1
         ],
         "title": {
          "text": "지역"
         }
        },
        "yaxis": {
         "anchor": "x",
         "domain": [
          0,
          1
         ],
         "title": {
          "text": "범죄율"
         }
        }
       }
      }
     },
     "metadata": {},
     "output_type": "display_data"
    }
   ],
   "source": [
    "fig"
   ]
  },
  {
   "cell_type": "code",
   "execution_count": 25,
   "metadata": {},
   "outputs": [
    {
     "name": "stdout",
     "output_type": "stream",
     "text": [
      "Requirement already satisfied: kaleido in c:\\users\\kdp\\anaconda3\\envs\\py39\\lib\\site-packages (0.2.1)\n"
     ]
    }
   ],
   "source": [
    "!pip install -U kaleido"
   ]
  },
  {
   "cell_type": "code",
   "execution_count": 26,
   "metadata": {},
   "outputs": [],
   "source": [
    "# 남한 중심부 주소\n",
    "south_korea_center = [35.9, 127.7]"
   ]
  },
  {
   "cell_type": "code",
   "execution_count": 27,
   "metadata": {},
   "outputs": [],
   "source": [
    "# 지도 생성\n",
    "m = folium.Map(location=south_korea_center, zoom_start=7)"
   ]
  },
  {
   "cell_type": "code",
   "execution_count": 28,
   "metadata": {},
   "outputs": [],
   "source": [
    "# 시청기준\n",
    "regions = [\n",
    "    (37.5, 126.9, \"2014-2022 서울특별시청 범죄율:31,574.2\"),\n",
    "    (35.1, 129.0, \"2014-2022 부산광역시청 범죄율:35,111.5\"),\n",
    "    (35.8, 128.6, \"2014-2022 대구광역시청 범죄율:31,677.9\"),\n",
    "    (37.4, 126.7, \"2014-2022 인천광역시청 범죄율:30,596.3\"),\n",
    "    (35.1, 126.8, \"2014-2022 광주광역시청 범죄율:33,192.2\"),\n",
    "    (36.3, 127.3, \"2014-2022 대전광역시청 범죄율:28,737.6\" ),\n",
    "    (35.5, 129.3, \"2014-2022 울산광역시청 범죄율:22,045.7\"),\n",
    "    (36.4, 127.2, \"2014-2022 세종특별자치시청 범죄율:17,880.6\"),\n",
    "    (37.2, 127.0, \"2014-2022 경기도청 범죄율:30,637.6\"),\n",
    "    (37.8, 127.7, \"2014-2022 강원특별자치도청 범죄율:32,545.9\"),\n",
    "    (36.6, 127.4, \"2014-2022 충청북도청 범죄율: 30,439\"),\n",
    "    (36.6, 126.6, \"2014-2022 충청남도청 범죄율: 31,753.2\"),\n",
    "    (35.7, 127.1, \"2014-2022 전라북도청 범죄율: 28,898.9\"),\n",
    "    (34.8, 126.4, \"2014-2022 전라남도청 범죄율: 34,315.1\"),\n",
    "    (36.5, 128.5, \"2014-2022 경상북도청 범죄율: 29,720.2\"),\n",
    "    (35.2, 128.6, \"2014-2022 경상남도청 범죄율: 33,777.6\"),\n",
    "    (33.4, 126.5, \"2014-2022 제주특별자치도청 범죄율: 44,188.8\")                                                                                                                                                                                                                                                                                                                                                                                                                                                                                                                                                                                                                                        \n",
    "]\n"
   ]
  },
  {
   "cell_type": "code",
   "execution_count": 29,
   "metadata": {},
   "outputs": [],
   "source": [
    "# 각 도시에 마커 추가\n",
    "for lat, lon, name in regions:\n",
    "    folium.Marker(\n",
    "        location=[lat, lon],\n",
    "        popup=name,  # 클릭 시 도시명 표시\n",
    "        tooltip=name,  # 마우스 오버 시 도시명 표시\n",
    "        icon=folium.Icon(color=\"green\", icon=\"info-sign\")\n",
    "    ).add_to(m)\n"
   ]
  },
  {
   "cell_type": "code",
   "execution_count": 30,
   "metadata": {},
   "outputs": [
    {
     "data": {
      "text/html": [
       "<div style=\"width:100%;\"><div style=\"position:relative;width:100%;height:0;padding-bottom:60%;\"><span style=\"color:#565656\">Make this Notebook Trusted to load map: File -> Trust Notebook</span><iframe srcdoc=\"&lt;!DOCTYPE html&gt;\n",
       "&lt;html&gt;\n",
       "&lt;head&gt;\n",
       "    \n",
       "    &lt;meta http-equiv=&quot;content-type&quot; content=&quot;text/html; charset=UTF-8&quot; /&gt;\n",
       "    \n",
       "        &lt;script&gt;\n",
       "            L_NO_TOUCH = false;\n",
       "            L_DISABLE_3D = false;\n",
       "        &lt;/script&gt;\n",
       "    \n",
       "    &lt;style&gt;html, body {width: 100%;height: 100%;margin: 0;padding: 0;}&lt;/style&gt;\n",
       "    &lt;style&gt;#map {position:absolute;top:0;bottom:0;right:0;left:0;}&lt;/style&gt;\n",
       "    &lt;script src=&quot;https://cdn.jsdelivr.net/npm/leaflet@1.9.3/dist/leaflet.js&quot;&gt;&lt;/script&gt;\n",
       "    &lt;script src=&quot;https://code.jquery.com/jquery-3.7.1.min.js&quot;&gt;&lt;/script&gt;\n",
       "    &lt;script src=&quot;https://cdn.jsdelivr.net/npm/bootstrap@5.2.2/dist/js/bootstrap.bundle.min.js&quot;&gt;&lt;/script&gt;\n",
       "    &lt;script src=&quot;https://cdnjs.cloudflare.com/ajax/libs/Leaflet.awesome-markers/2.0.2/leaflet.awesome-markers.js&quot;&gt;&lt;/script&gt;\n",
       "    &lt;link rel=&quot;stylesheet&quot; href=&quot;https://cdn.jsdelivr.net/npm/leaflet@1.9.3/dist/leaflet.css&quot;/&gt;\n",
       "    &lt;link rel=&quot;stylesheet&quot; href=&quot;https://cdn.jsdelivr.net/npm/bootstrap@5.2.2/dist/css/bootstrap.min.css&quot;/&gt;\n",
       "    &lt;link rel=&quot;stylesheet&quot; href=&quot;https://netdna.bootstrapcdn.com/bootstrap/3.0.0/css/bootstrap-glyphicons.css&quot;/&gt;\n",
       "    &lt;link rel=&quot;stylesheet&quot; href=&quot;https://cdn.jsdelivr.net/npm/@fortawesome/fontawesome-free@6.2.0/css/all.min.css&quot;/&gt;\n",
       "    &lt;link rel=&quot;stylesheet&quot; href=&quot;https://cdnjs.cloudflare.com/ajax/libs/Leaflet.awesome-markers/2.0.2/leaflet.awesome-markers.css&quot;/&gt;\n",
       "    &lt;link rel=&quot;stylesheet&quot; href=&quot;https://cdn.jsdelivr.net/gh/python-visualization/folium/folium/templates/leaflet.awesome.rotate.min.css&quot;/&gt;\n",
       "    \n",
       "            &lt;meta name=&quot;viewport&quot; content=&quot;width=device-width,\n",
       "                initial-scale=1.0, maximum-scale=1.0, user-scalable=no&quot; /&gt;\n",
       "            &lt;style&gt;\n",
       "                #map_03dcbe0f46a60d1a05a41a1df489a1ca {\n",
       "                    position: relative;\n",
       "                    width: 100.0%;\n",
       "                    height: 100.0%;\n",
       "                    left: 0.0%;\n",
       "                    top: 0.0%;\n",
       "                }\n",
       "                .leaflet-container { font-size: 1rem; }\n",
       "            &lt;/style&gt;\n",
       "        \n",
       "&lt;/head&gt;\n",
       "&lt;body&gt;\n",
       "    \n",
       "    \n",
       "            &lt;div class=&quot;folium-map&quot; id=&quot;map_03dcbe0f46a60d1a05a41a1df489a1ca&quot; &gt;&lt;/div&gt;\n",
       "        \n",
       "&lt;/body&gt;\n",
       "&lt;script&gt;\n",
       "    \n",
       "    \n",
       "            var map_03dcbe0f46a60d1a05a41a1df489a1ca = L.map(\n",
       "                &quot;map_03dcbe0f46a60d1a05a41a1df489a1ca&quot;,\n",
       "                {\n",
       "                    center: [35.9, 127.7],\n",
       "                    crs: L.CRS.EPSG3857,\n",
       "                    ...{\n",
       "  &quot;zoom&quot;: 7,\n",
       "  &quot;zoomControl&quot;: true,\n",
       "  &quot;preferCanvas&quot;: false,\n",
       "}\n",
       "\n",
       "                }\n",
       "            );\n",
       "\n",
       "            \n",
       "\n",
       "        \n",
       "    \n",
       "            var tile_layer_e329d3a03ab338fdb5faf21493ea5bbc = L.tileLayer(\n",
       "                &quot;https://tile.openstreetmap.org/{z}/{x}/{y}.png&quot;,\n",
       "                {\n",
       "  &quot;minZoom&quot;: 0,\n",
       "  &quot;maxZoom&quot;: 19,\n",
       "  &quot;maxNativeZoom&quot;: 19,\n",
       "  &quot;noWrap&quot;: false,\n",
       "  &quot;attribution&quot;: &quot;\\u0026copy; \\u003ca href=\\&quot;https://www.openstreetmap.org/copyright\\&quot;\\u003eOpenStreetMap\\u003c/a\\u003e contributors&quot;,\n",
       "  &quot;subdomains&quot;: &quot;abc&quot;,\n",
       "  &quot;detectRetina&quot;: false,\n",
       "  &quot;tms&quot;: false,\n",
       "  &quot;opacity&quot;: 1,\n",
       "}\n",
       "\n",
       "            );\n",
       "        \n",
       "    \n",
       "            tile_layer_e329d3a03ab338fdb5faf21493ea5bbc.addTo(map_03dcbe0f46a60d1a05a41a1df489a1ca);\n",
       "        \n",
       "    \n",
       "            var marker_6eb7900843c33fecc27f384aa60e06d7 = L.marker(\n",
       "                [37.5, 126.9],\n",
       "                {\n",
       "}\n",
       "            ).addTo(map_03dcbe0f46a60d1a05a41a1df489a1ca);\n",
       "        \n",
       "    \n",
       "            var icon_baeac4321e6f41aaad9a9d64473aea23 = L.AwesomeMarkers.icon(\n",
       "                {\n",
       "  &quot;markerColor&quot;: &quot;green&quot;,\n",
       "  &quot;iconColor&quot;: &quot;white&quot;,\n",
       "  &quot;icon&quot;: &quot;info-sign&quot;,\n",
       "  &quot;prefix&quot;: &quot;glyphicon&quot;,\n",
       "  &quot;extraClasses&quot;: &quot;fa-rotate-0&quot;,\n",
       "}\n",
       "            );\n",
       "            marker_6eb7900843c33fecc27f384aa60e06d7.setIcon(icon_baeac4321e6f41aaad9a9d64473aea23);\n",
       "        \n",
       "    \n",
       "        var popup_5a173a52b913079e723dc3ae49e8ebc5 = L.popup({\n",
       "  &quot;maxWidth&quot;: &quot;100%&quot;,\n",
       "});\n",
       "\n",
       "        \n",
       "            \n",
       "                var html_eac41e3b8e02c371b9df9790fd592c27 = $(`&lt;div id=&quot;html_eac41e3b8e02c371b9df9790fd592c27&quot; style=&quot;width: 100.0%; height: 100.0%;&quot;&gt;2014-2022 서울특별시청 범죄율:31,574.2&lt;/div&gt;`)[0];\n",
       "                popup_5a173a52b913079e723dc3ae49e8ebc5.setContent(html_eac41e3b8e02c371b9df9790fd592c27);\n",
       "            \n",
       "        \n",
       "\n",
       "        marker_6eb7900843c33fecc27f384aa60e06d7.bindPopup(popup_5a173a52b913079e723dc3ae49e8ebc5)\n",
       "        ;\n",
       "\n",
       "        \n",
       "    \n",
       "    \n",
       "            marker_6eb7900843c33fecc27f384aa60e06d7.bindTooltip(\n",
       "                `&lt;div&gt;\n",
       "                     2014-2022 서울특별시청 범죄율:31,574.2\n",
       "                 &lt;/div&gt;`,\n",
       "                {\n",
       "  &quot;sticky&quot;: true,\n",
       "}\n",
       "            );\n",
       "        \n",
       "    \n",
       "            var marker_58c14f328ac26655b9cb080bfcd8ea7f = L.marker(\n",
       "                [35.1, 129.0],\n",
       "                {\n",
       "}\n",
       "            ).addTo(map_03dcbe0f46a60d1a05a41a1df489a1ca);\n",
       "        \n",
       "    \n",
       "            var icon_dc4f5047c171d3b0b1243d50d470dfc3 = L.AwesomeMarkers.icon(\n",
       "                {\n",
       "  &quot;markerColor&quot;: &quot;green&quot;,\n",
       "  &quot;iconColor&quot;: &quot;white&quot;,\n",
       "  &quot;icon&quot;: &quot;info-sign&quot;,\n",
       "  &quot;prefix&quot;: &quot;glyphicon&quot;,\n",
       "  &quot;extraClasses&quot;: &quot;fa-rotate-0&quot;,\n",
       "}\n",
       "            );\n",
       "            marker_58c14f328ac26655b9cb080bfcd8ea7f.setIcon(icon_dc4f5047c171d3b0b1243d50d470dfc3);\n",
       "        \n",
       "    \n",
       "        var popup_32ad5a5556b414a05cf929fc0a4ce54e = L.popup({\n",
       "  &quot;maxWidth&quot;: &quot;100%&quot;,\n",
       "});\n",
       "\n",
       "        \n",
       "            \n",
       "                var html_367b6b617ce2f43db88960dd8c7a8876 = $(`&lt;div id=&quot;html_367b6b617ce2f43db88960dd8c7a8876&quot; style=&quot;width: 100.0%; height: 100.0%;&quot;&gt;2014-2022 부산광역시청 범죄율:35,111.5&lt;/div&gt;`)[0];\n",
       "                popup_32ad5a5556b414a05cf929fc0a4ce54e.setContent(html_367b6b617ce2f43db88960dd8c7a8876);\n",
       "            \n",
       "        \n",
       "\n",
       "        marker_58c14f328ac26655b9cb080bfcd8ea7f.bindPopup(popup_32ad5a5556b414a05cf929fc0a4ce54e)\n",
       "        ;\n",
       "\n",
       "        \n",
       "    \n",
       "    \n",
       "            marker_58c14f328ac26655b9cb080bfcd8ea7f.bindTooltip(\n",
       "                `&lt;div&gt;\n",
       "                     2014-2022 부산광역시청 범죄율:35,111.5\n",
       "                 &lt;/div&gt;`,\n",
       "                {\n",
       "  &quot;sticky&quot;: true,\n",
       "}\n",
       "            );\n",
       "        \n",
       "    \n",
       "            var marker_c1b7493e8be94ba363f09058d5905e8a = L.marker(\n",
       "                [35.8, 128.6],\n",
       "                {\n",
       "}\n",
       "            ).addTo(map_03dcbe0f46a60d1a05a41a1df489a1ca);\n",
       "        \n",
       "    \n",
       "            var icon_c9ab41fdfbaf594da322d60ecd03ae1d = L.AwesomeMarkers.icon(\n",
       "                {\n",
       "  &quot;markerColor&quot;: &quot;green&quot;,\n",
       "  &quot;iconColor&quot;: &quot;white&quot;,\n",
       "  &quot;icon&quot;: &quot;info-sign&quot;,\n",
       "  &quot;prefix&quot;: &quot;glyphicon&quot;,\n",
       "  &quot;extraClasses&quot;: &quot;fa-rotate-0&quot;,\n",
       "}\n",
       "            );\n",
       "            marker_c1b7493e8be94ba363f09058d5905e8a.setIcon(icon_c9ab41fdfbaf594da322d60ecd03ae1d);\n",
       "        \n",
       "    \n",
       "        var popup_610c9936e6354bbdc5e879f6bdd003ad = L.popup({\n",
       "  &quot;maxWidth&quot;: &quot;100%&quot;,\n",
       "});\n",
       "\n",
       "        \n",
       "            \n",
       "                var html_6d3aa4818301d0f08322d074e370aa6a = $(`&lt;div id=&quot;html_6d3aa4818301d0f08322d074e370aa6a&quot; style=&quot;width: 100.0%; height: 100.0%;&quot;&gt;2014-2022 대구광역시청 범죄율:31,677.9&lt;/div&gt;`)[0];\n",
       "                popup_610c9936e6354bbdc5e879f6bdd003ad.setContent(html_6d3aa4818301d0f08322d074e370aa6a);\n",
       "            \n",
       "        \n",
       "\n",
       "        marker_c1b7493e8be94ba363f09058d5905e8a.bindPopup(popup_610c9936e6354bbdc5e879f6bdd003ad)\n",
       "        ;\n",
       "\n",
       "        \n",
       "    \n",
       "    \n",
       "            marker_c1b7493e8be94ba363f09058d5905e8a.bindTooltip(\n",
       "                `&lt;div&gt;\n",
       "                     2014-2022 대구광역시청 범죄율:31,677.9\n",
       "                 &lt;/div&gt;`,\n",
       "                {\n",
       "  &quot;sticky&quot;: true,\n",
       "}\n",
       "            );\n",
       "        \n",
       "    \n",
       "            var marker_1da651fdfd60a923bdadf0bebd8d540f = L.marker(\n",
       "                [37.4, 126.7],\n",
       "                {\n",
       "}\n",
       "            ).addTo(map_03dcbe0f46a60d1a05a41a1df489a1ca);\n",
       "        \n",
       "    \n",
       "            var icon_ebc1ea9d552eb7b671208df03773e85f = L.AwesomeMarkers.icon(\n",
       "                {\n",
       "  &quot;markerColor&quot;: &quot;green&quot;,\n",
       "  &quot;iconColor&quot;: &quot;white&quot;,\n",
       "  &quot;icon&quot;: &quot;info-sign&quot;,\n",
       "  &quot;prefix&quot;: &quot;glyphicon&quot;,\n",
       "  &quot;extraClasses&quot;: &quot;fa-rotate-0&quot;,\n",
       "}\n",
       "            );\n",
       "            marker_1da651fdfd60a923bdadf0bebd8d540f.setIcon(icon_ebc1ea9d552eb7b671208df03773e85f);\n",
       "        \n",
       "    \n",
       "        var popup_b49824d8e66bcf4fe7e982109ec6e467 = L.popup({\n",
       "  &quot;maxWidth&quot;: &quot;100%&quot;,\n",
       "});\n",
       "\n",
       "        \n",
       "            \n",
       "                var html_d236305c0f14d5be0a7ea2e542af28da = $(`&lt;div id=&quot;html_d236305c0f14d5be0a7ea2e542af28da&quot; style=&quot;width: 100.0%; height: 100.0%;&quot;&gt;2014-2022 인천광역시청 범죄율:30,596.3&lt;/div&gt;`)[0];\n",
       "                popup_b49824d8e66bcf4fe7e982109ec6e467.setContent(html_d236305c0f14d5be0a7ea2e542af28da);\n",
       "            \n",
       "        \n",
       "\n",
       "        marker_1da651fdfd60a923bdadf0bebd8d540f.bindPopup(popup_b49824d8e66bcf4fe7e982109ec6e467)\n",
       "        ;\n",
       "\n",
       "        \n",
       "    \n",
       "    \n",
       "            marker_1da651fdfd60a923bdadf0bebd8d540f.bindTooltip(\n",
       "                `&lt;div&gt;\n",
       "                     2014-2022 인천광역시청 범죄율:30,596.3\n",
       "                 &lt;/div&gt;`,\n",
       "                {\n",
       "  &quot;sticky&quot;: true,\n",
       "}\n",
       "            );\n",
       "        \n",
       "    \n",
       "            var marker_203ac0c0f5284c3594ae531acf94dec9 = L.marker(\n",
       "                [35.1, 126.8],\n",
       "                {\n",
       "}\n",
       "            ).addTo(map_03dcbe0f46a60d1a05a41a1df489a1ca);\n",
       "        \n",
       "    \n",
       "            var icon_0f578bc8265db161096d6708f765485b = L.AwesomeMarkers.icon(\n",
       "                {\n",
       "  &quot;markerColor&quot;: &quot;green&quot;,\n",
       "  &quot;iconColor&quot;: &quot;white&quot;,\n",
       "  &quot;icon&quot;: &quot;info-sign&quot;,\n",
       "  &quot;prefix&quot;: &quot;glyphicon&quot;,\n",
       "  &quot;extraClasses&quot;: &quot;fa-rotate-0&quot;,\n",
       "}\n",
       "            );\n",
       "            marker_203ac0c0f5284c3594ae531acf94dec9.setIcon(icon_0f578bc8265db161096d6708f765485b);\n",
       "        \n",
       "    \n",
       "        var popup_36cb302b2638ed806e21c2bc613b917e = L.popup({\n",
       "  &quot;maxWidth&quot;: &quot;100%&quot;,\n",
       "});\n",
       "\n",
       "        \n",
       "            \n",
       "                var html_324cd16851a7694301a2c1070946bb97 = $(`&lt;div id=&quot;html_324cd16851a7694301a2c1070946bb97&quot; style=&quot;width: 100.0%; height: 100.0%;&quot;&gt;2014-2022 광주광역시청 범죄율:33,192.2&lt;/div&gt;`)[0];\n",
       "                popup_36cb302b2638ed806e21c2bc613b917e.setContent(html_324cd16851a7694301a2c1070946bb97);\n",
       "            \n",
       "        \n",
       "\n",
       "        marker_203ac0c0f5284c3594ae531acf94dec9.bindPopup(popup_36cb302b2638ed806e21c2bc613b917e)\n",
       "        ;\n",
       "\n",
       "        \n",
       "    \n",
       "    \n",
       "            marker_203ac0c0f5284c3594ae531acf94dec9.bindTooltip(\n",
       "                `&lt;div&gt;\n",
       "                     2014-2022 광주광역시청 범죄율:33,192.2\n",
       "                 &lt;/div&gt;`,\n",
       "                {\n",
       "  &quot;sticky&quot;: true,\n",
       "}\n",
       "            );\n",
       "        \n",
       "    \n",
       "            var marker_4396cd1c307f703770f2027bc6a4cc18 = L.marker(\n",
       "                [36.3, 127.3],\n",
       "                {\n",
       "}\n",
       "            ).addTo(map_03dcbe0f46a60d1a05a41a1df489a1ca);\n",
       "        \n",
       "    \n",
       "            var icon_0b77c6cb6a11995c5ba3678e1d49807f = L.AwesomeMarkers.icon(\n",
       "                {\n",
       "  &quot;markerColor&quot;: &quot;green&quot;,\n",
       "  &quot;iconColor&quot;: &quot;white&quot;,\n",
       "  &quot;icon&quot;: &quot;info-sign&quot;,\n",
       "  &quot;prefix&quot;: &quot;glyphicon&quot;,\n",
       "  &quot;extraClasses&quot;: &quot;fa-rotate-0&quot;,\n",
       "}\n",
       "            );\n",
       "            marker_4396cd1c307f703770f2027bc6a4cc18.setIcon(icon_0b77c6cb6a11995c5ba3678e1d49807f);\n",
       "        \n",
       "    \n",
       "        var popup_e2d7d3d394ed7b4350521c4733990c14 = L.popup({\n",
       "  &quot;maxWidth&quot;: &quot;100%&quot;,\n",
       "});\n",
       "\n",
       "        \n",
       "            \n",
       "                var html_2129c7b78c2e6423f5088247c4f355d0 = $(`&lt;div id=&quot;html_2129c7b78c2e6423f5088247c4f355d0&quot; style=&quot;width: 100.0%; height: 100.0%;&quot;&gt;2014-2022 대전광역시청 범죄율:28,737.6&lt;/div&gt;`)[0];\n",
       "                popup_e2d7d3d394ed7b4350521c4733990c14.setContent(html_2129c7b78c2e6423f5088247c4f355d0);\n",
       "            \n",
       "        \n",
       "\n",
       "        marker_4396cd1c307f703770f2027bc6a4cc18.bindPopup(popup_e2d7d3d394ed7b4350521c4733990c14)\n",
       "        ;\n",
       "\n",
       "        \n",
       "    \n",
       "    \n",
       "            marker_4396cd1c307f703770f2027bc6a4cc18.bindTooltip(\n",
       "                `&lt;div&gt;\n",
       "                     2014-2022 대전광역시청 범죄율:28,737.6\n",
       "                 &lt;/div&gt;`,\n",
       "                {\n",
       "  &quot;sticky&quot;: true,\n",
       "}\n",
       "            );\n",
       "        \n",
       "    \n",
       "            var marker_1bc942b4f8ad01bcc818ce051e22acd5 = L.marker(\n",
       "                [35.5, 129.3],\n",
       "                {\n",
       "}\n",
       "            ).addTo(map_03dcbe0f46a60d1a05a41a1df489a1ca);\n",
       "        \n",
       "    \n",
       "            var icon_cff538b52fc16887eb18d2279e6ead94 = L.AwesomeMarkers.icon(\n",
       "                {\n",
       "  &quot;markerColor&quot;: &quot;green&quot;,\n",
       "  &quot;iconColor&quot;: &quot;white&quot;,\n",
       "  &quot;icon&quot;: &quot;info-sign&quot;,\n",
       "  &quot;prefix&quot;: &quot;glyphicon&quot;,\n",
       "  &quot;extraClasses&quot;: &quot;fa-rotate-0&quot;,\n",
       "}\n",
       "            );\n",
       "            marker_1bc942b4f8ad01bcc818ce051e22acd5.setIcon(icon_cff538b52fc16887eb18d2279e6ead94);\n",
       "        \n",
       "    \n",
       "        var popup_5b51b255bcd8b27739356d3caa7ad2c1 = L.popup({\n",
       "  &quot;maxWidth&quot;: &quot;100%&quot;,\n",
       "});\n",
       "\n",
       "        \n",
       "            \n",
       "                var html_29956bef5c8a75eb409e8571a7bf96e1 = $(`&lt;div id=&quot;html_29956bef5c8a75eb409e8571a7bf96e1&quot; style=&quot;width: 100.0%; height: 100.0%;&quot;&gt;2014-2022 울산광역시청 범죄율:22,045.7&lt;/div&gt;`)[0];\n",
       "                popup_5b51b255bcd8b27739356d3caa7ad2c1.setContent(html_29956bef5c8a75eb409e8571a7bf96e1);\n",
       "            \n",
       "        \n",
       "\n",
       "        marker_1bc942b4f8ad01bcc818ce051e22acd5.bindPopup(popup_5b51b255bcd8b27739356d3caa7ad2c1)\n",
       "        ;\n",
       "\n",
       "        \n",
       "    \n",
       "    \n",
       "            marker_1bc942b4f8ad01bcc818ce051e22acd5.bindTooltip(\n",
       "                `&lt;div&gt;\n",
       "                     2014-2022 울산광역시청 범죄율:22,045.7\n",
       "                 &lt;/div&gt;`,\n",
       "                {\n",
       "  &quot;sticky&quot;: true,\n",
       "}\n",
       "            );\n",
       "        \n",
       "    \n",
       "            var marker_422ffcb224ef6dd16293a5a9b4573e77 = L.marker(\n",
       "                [36.4, 127.2],\n",
       "                {\n",
       "}\n",
       "            ).addTo(map_03dcbe0f46a60d1a05a41a1df489a1ca);\n",
       "        \n",
       "    \n",
       "            var icon_678b66453389101a526796f44c981f48 = L.AwesomeMarkers.icon(\n",
       "                {\n",
       "  &quot;markerColor&quot;: &quot;green&quot;,\n",
       "  &quot;iconColor&quot;: &quot;white&quot;,\n",
       "  &quot;icon&quot;: &quot;info-sign&quot;,\n",
       "  &quot;prefix&quot;: &quot;glyphicon&quot;,\n",
       "  &quot;extraClasses&quot;: &quot;fa-rotate-0&quot;,\n",
       "}\n",
       "            );\n",
       "            marker_422ffcb224ef6dd16293a5a9b4573e77.setIcon(icon_678b66453389101a526796f44c981f48);\n",
       "        \n",
       "    \n",
       "        var popup_406322a82990223e0c653a953c26678e = L.popup({\n",
       "  &quot;maxWidth&quot;: &quot;100%&quot;,\n",
       "});\n",
       "\n",
       "        \n",
       "            \n",
       "                var html_c54954a34c6e14a2b8242a71e760af74 = $(`&lt;div id=&quot;html_c54954a34c6e14a2b8242a71e760af74&quot; style=&quot;width: 100.0%; height: 100.0%;&quot;&gt;2014-2022 세종특별자치시청 범죄율:17,880.6&lt;/div&gt;`)[0];\n",
       "                popup_406322a82990223e0c653a953c26678e.setContent(html_c54954a34c6e14a2b8242a71e760af74);\n",
       "            \n",
       "        \n",
       "\n",
       "        marker_422ffcb224ef6dd16293a5a9b4573e77.bindPopup(popup_406322a82990223e0c653a953c26678e)\n",
       "        ;\n",
       "\n",
       "        \n",
       "    \n",
       "    \n",
       "            marker_422ffcb224ef6dd16293a5a9b4573e77.bindTooltip(\n",
       "                `&lt;div&gt;\n",
       "                     2014-2022 세종특별자치시청 범죄율:17,880.6\n",
       "                 &lt;/div&gt;`,\n",
       "                {\n",
       "  &quot;sticky&quot;: true,\n",
       "}\n",
       "            );\n",
       "        \n",
       "    \n",
       "            var marker_607a34d3f874bd07dbc16e33a3c04ec9 = L.marker(\n",
       "                [37.2, 127.0],\n",
       "                {\n",
       "}\n",
       "            ).addTo(map_03dcbe0f46a60d1a05a41a1df489a1ca);\n",
       "        \n",
       "    \n",
       "            var icon_32d6ccdcd16770c52c206ba51de20938 = L.AwesomeMarkers.icon(\n",
       "                {\n",
       "  &quot;markerColor&quot;: &quot;green&quot;,\n",
       "  &quot;iconColor&quot;: &quot;white&quot;,\n",
       "  &quot;icon&quot;: &quot;info-sign&quot;,\n",
       "  &quot;prefix&quot;: &quot;glyphicon&quot;,\n",
       "  &quot;extraClasses&quot;: &quot;fa-rotate-0&quot;,\n",
       "}\n",
       "            );\n",
       "            marker_607a34d3f874bd07dbc16e33a3c04ec9.setIcon(icon_32d6ccdcd16770c52c206ba51de20938);\n",
       "        \n",
       "    \n",
       "        var popup_75e419c2009713242acd0e07f3ebb4c4 = L.popup({\n",
       "  &quot;maxWidth&quot;: &quot;100%&quot;,\n",
       "});\n",
       "\n",
       "        \n",
       "            \n",
       "                var html_ad61d43b4a3349dc958b7fa142cd5eed = $(`&lt;div id=&quot;html_ad61d43b4a3349dc958b7fa142cd5eed&quot; style=&quot;width: 100.0%; height: 100.0%;&quot;&gt;2014-2022 경기도청 범죄율:30,637.6&lt;/div&gt;`)[0];\n",
       "                popup_75e419c2009713242acd0e07f3ebb4c4.setContent(html_ad61d43b4a3349dc958b7fa142cd5eed);\n",
       "            \n",
       "        \n",
       "\n",
       "        marker_607a34d3f874bd07dbc16e33a3c04ec9.bindPopup(popup_75e419c2009713242acd0e07f3ebb4c4)\n",
       "        ;\n",
       "\n",
       "        \n",
       "    \n",
       "    \n",
       "            marker_607a34d3f874bd07dbc16e33a3c04ec9.bindTooltip(\n",
       "                `&lt;div&gt;\n",
       "                     2014-2022 경기도청 범죄율:30,637.6\n",
       "                 &lt;/div&gt;`,\n",
       "                {\n",
       "  &quot;sticky&quot;: true,\n",
       "}\n",
       "            );\n",
       "        \n",
       "    \n",
       "            var marker_9549f46bf40477f2971538b4fa843912 = L.marker(\n",
       "                [37.8, 127.7],\n",
       "                {\n",
       "}\n",
       "            ).addTo(map_03dcbe0f46a60d1a05a41a1df489a1ca);\n",
       "        \n",
       "    \n",
       "            var icon_edb8a853b4ce65df561a4df62e88635e = L.AwesomeMarkers.icon(\n",
       "                {\n",
       "  &quot;markerColor&quot;: &quot;green&quot;,\n",
       "  &quot;iconColor&quot;: &quot;white&quot;,\n",
       "  &quot;icon&quot;: &quot;info-sign&quot;,\n",
       "  &quot;prefix&quot;: &quot;glyphicon&quot;,\n",
       "  &quot;extraClasses&quot;: &quot;fa-rotate-0&quot;,\n",
       "}\n",
       "            );\n",
       "            marker_9549f46bf40477f2971538b4fa843912.setIcon(icon_edb8a853b4ce65df561a4df62e88635e);\n",
       "        \n",
       "    \n",
       "        var popup_3a7f6e91e651f5b0bc5d5edff25ebde8 = L.popup({\n",
       "  &quot;maxWidth&quot;: &quot;100%&quot;,\n",
       "});\n",
       "\n",
       "        \n",
       "            \n",
       "                var html_b562e4ba50765e9c1a12b3b0584e24c0 = $(`&lt;div id=&quot;html_b562e4ba50765e9c1a12b3b0584e24c0&quot; style=&quot;width: 100.0%; height: 100.0%;&quot;&gt;2014-2022 강원특별자치도청 범죄율:32,545.9&lt;/div&gt;`)[0];\n",
       "                popup_3a7f6e91e651f5b0bc5d5edff25ebde8.setContent(html_b562e4ba50765e9c1a12b3b0584e24c0);\n",
       "            \n",
       "        \n",
       "\n",
       "        marker_9549f46bf40477f2971538b4fa843912.bindPopup(popup_3a7f6e91e651f5b0bc5d5edff25ebde8)\n",
       "        ;\n",
       "\n",
       "        \n",
       "    \n",
       "    \n",
       "            marker_9549f46bf40477f2971538b4fa843912.bindTooltip(\n",
       "                `&lt;div&gt;\n",
       "                     2014-2022 강원특별자치도청 범죄율:32,545.9\n",
       "                 &lt;/div&gt;`,\n",
       "                {\n",
       "  &quot;sticky&quot;: true,\n",
       "}\n",
       "            );\n",
       "        \n",
       "    \n",
       "            var marker_d5f0ed3d0bd59a3f10202fb448c1c77c = L.marker(\n",
       "                [36.6, 127.4],\n",
       "                {\n",
       "}\n",
       "            ).addTo(map_03dcbe0f46a60d1a05a41a1df489a1ca);\n",
       "        \n",
       "    \n",
       "            var icon_36c0e47eb8f70fb52dda6a407b9ed89e = L.AwesomeMarkers.icon(\n",
       "                {\n",
       "  &quot;markerColor&quot;: &quot;green&quot;,\n",
       "  &quot;iconColor&quot;: &quot;white&quot;,\n",
       "  &quot;icon&quot;: &quot;info-sign&quot;,\n",
       "  &quot;prefix&quot;: &quot;glyphicon&quot;,\n",
       "  &quot;extraClasses&quot;: &quot;fa-rotate-0&quot;,\n",
       "}\n",
       "            );\n",
       "            marker_d5f0ed3d0bd59a3f10202fb448c1c77c.setIcon(icon_36c0e47eb8f70fb52dda6a407b9ed89e);\n",
       "        \n",
       "    \n",
       "        var popup_65240f06d76d40343c9293efcbbbab76 = L.popup({\n",
       "  &quot;maxWidth&quot;: &quot;100%&quot;,\n",
       "});\n",
       "\n",
       "        \n",
       "            \n",
       "                var html_eb1b0b8245008da15e0b66241cff60cf = $(`&lt;div id=&quot;html_eb1b0b8245008da15e0b66241cff60cf&quot; style=&quot;width: 100.0%; height: 100.0%;&quot;&gt;2014-2022 충청북도청 범죄율: 30,439&lt;/div&gt;`)[0];\n",
       "                popup_65240f06d76d40343c9293efcbbbab76.setContent(html_eb1b0b8245008da15e0b66241cff60cf);\n",
       "            \n",
       "        \n",
       "\n",
       "        marker_d5f0ed3d0bd59a3f10202fb448c1c77c.bindPopup(popup_65240f06d76d40343c9293efcbbbab76)\n",
       "        ;\n",
       "\n",
       "        \n",
       "    \n",
       "    \n",
       "            marker_d5f0ed3d0bd59a3f10202fb448c1c77c.bindTooltip(\n",
       "                `&lt;div&gt;\n",
       "                     2014-2022 충청북도청 범죄율: 30,439\n",
       "                 &lt;/div&gt;`,\n",
       "                {\n",
       "  &quot;sticky&quot;: true,\n",
       "}\n",
       "            );\n",
       "        \n",
       "    \n",
       "            var marker_7c4014168d3be76d07133df4cce3fdb7 = L.marker(\n",
       "                [36.6, 126.6],\n",
       "                {\n",
       "}\n",
       "            ).addTo(map_03dcbe0f46a60d1a05a41a1df489a1ca);\n",
       "        \n",
       "    \n",
       "            var icon_db3c7f3cd8b33844e97772d22a8f0043 = L.AwesomeMarkers.icon(\n",
       "                {\n",
       "  &quot;markerColor&quot;: &quot;green&quot;,\n",
       "  &quot;iconColor&quot;: &quot;white&quot;,\n",
       "  &quot;icon&quot;: &quot;info-sign&quot;,\n",
       "  &quot;prefix&quot;: &quot;glyphicon&quot;,\n",
       "  &quot;extraClasses&quot;: &quot;fa-rotate-0&quot;,\n",
       "}\n",
       "            );\n",
       "            marker_7c4014168d3be76d07133df4cce3fdb7.setIcon(icon_db3c7f3cd8b33844e97772d22a8f0043);\n",
       "        \n",
       "    \n",
       "        var popup_2503e13399973d044117bd0241ac09ff = L.popup({\n",
       "  &quot;maxWidth&quot;: &quot;100%&quot;,\n",
       "});\n",
       "\n",
       "        \n",
       "            \n",
       "                var html_1965ea36d7eea38e332c407057da022b = $(`&lt;div id=&quot;html_1965ea36d7eea38e332c407057da022b&quot; style=&quot;width: 100.0%; height: 100.0%;&quot;&gt;2014-2022 충청남도청 범죄율: 31,753.2&lt;/div&gt;`)[0];\n",
       "                popup_2503e13399973d044117bd0241ac09ff.setContent(html_1965ea36d7eea38e332c407057da022b);\n",
       "            \n",
       "        \n",
       "\n",
       "        marker_7c4014168d3be76d07133df4cce3fdb7.bindPopup(popup_2503e13399973d044117bd0241ac09ff)\n",
       "        ;\n",
       "\n",
       "        \n",
       "    \n",
       "    \n",
       "            marker_7c4014168d3be76d07133df4cce3fdb7.bindTooltip(\n",
       "                `&lt;div&gt;\n",
       "                     2014-2022 충청남도청 범죄율: 31,753.2\n",
       "                 &lt;/div&gt;`,\n",
       "                {\n",
       "  &quot;sticky&quot;: true,\n",
       "}\n",
       "            );\n",
       "        \n",
       "    \n",
       "            var marker_acf37137ca599f93c5619be1f3c0c247 = L.marker(\n",
       "                [35.7, 127.1],\n",
       "                {\n",
       "}\n",
       "            ).addTo(map_03dcbe0f46a60d1a05a41a1df489a1ca);\n",
       "        \n",
       "    \n",
       "            var icon_d7e72497f32af41d047bf9c12d377544 = L.AwesomeMarkers.icon(\n",
       "                {\n",
       "  &quot;markerColor&quot;: &quot;green&quot;,\n",
       "  &quot;iconColor&quot;: &quot;white&quot;,\n",
       "  &quot;icon&quot;: &quot;info-sign&quot;,\n",
       "  &quot;prefix&quot;: &quot;glyphicon&quot;,\n",
       "  &quot;extraClasses&quot;: &quot;fa-rotate-0&quot;,\n",
       "}\n",
       "            );\n",
       "            marker_acf37137ca599f93c5619be1f3c0c247.setIcon(icon_d7e72497f32af41d047bf9c12d377544);\n",
       "        \n",
       "    \n",
       "        var popup_a2622284be6c88b82a2b8c68d940a5ad = L.popup({\n",
       "  &quot;maxWidth&quot;: &quot;100%&quot;,\n",
       "});\n",
       "\n",
       "        \n",
       "            \n",
       "                var html_28071686bbb0ca9d0606b0501eb91037 = $(`&lt;div id=&quot;html_28071686bbb0ca9d0606b0501eb91037&quot; style=&quot;width: 100.0%; height: 100.0%;&quot;&gt;2014-2022 전라북도청 범죄율: 28,898.9&lt;/div&gt;`)[0];\n",
       "                popup_a2622284be6c88b82a2b8c68d940a5ad.setContent(html_28071686bbb0ca9d0606b0501eb91037);\n",
       "            \n",
       "        \n",
       "\n",
       "        marker_acf37137ca599f93c5619be1f3c0c247.bindPopup(popup_a2622284be6c88b82a2b8c68d940a5ad)\n",
       "        ;\n",
       "\n",
       "        \n",
       "    \n",
       "    \n",
       "            marker_acf37137ca599f93c5619be1f3c0c247.bindTooltip(\n",
       "                `&lt;div&gt;\n",
       "                     2014-2022 전라북도청 범죄율: 28,898.9\n",
       "                 &lt;/div&gt;`,\n",
       "                {\n",
       "  &quot;sticky&quot;: true,\n",
       "}\n",
       "            );\n",
       "        \n",
       "    \n",
       "            var marker_ffd534c5242cc297acdb2c7a55e2bc6b = L.marker(\n",
       "                [34.8, 126.4],\n",
       "                {\n",
       "}\n",
       "            ).addTo(map_03dcbe0f46a60d1a05a41a1df489a1ca);\n",
       "        \n",
       "    \n",
       "            var icon_273dad3f17aec1f10eb89d526546e56b = L.AwesomeMarkers.icon(\n",
       "                {\n",
       "  &quot;markerColor&quot;: &quot;green&quot;,\n",
       "  &quot;iconColor&quot;: &quot;white&quot;,\n",
       "  &quot;icon&quot;: &quot;info-sign&quot;,\n",
       "  &quot;prefix&quot;: &quot;glyphicon&quot;,\n",
       "  &quot;extraClasses&quot;: &quot;fa-rotate-0&quot;,\n",
       "}\n",
       "            );\n",
       "            marker_ffd534c5242cc297acdb2c7a55e2bc6b.setIcon(icon_273dad3f17aec1f10eb89d526546e56b);\n",
       "        \n",
       "    \n",
       "        var popup_e41c31b0923994fa57e5520f71706bf8 = L.popup({\n",
       "  &quot;maxWidth&quot;: &quot;100%&quot;,\n",
       "});\n",
       "\n",
       "        \n",
       "            \n",
       "                var html_36c16d2840f9df4b2fbcde9884f8c57b = $(`&lt;div id=&quot;html_36c16d2840f9df4b2fbcde9884f8c57b&quot; style=&quot;width: 100.0%; height: 100.0%;&quot;&gt;2014-2022 전라남도청 범죄율: 34,315.1&lt;/div&gt;`)[0];\n",
       "                popup_e41c31b0923994fa57e5520f71706bf8.setContent(html_36c16d2840f9df4b2fbcde9884f8c57b);\n",
       "            \n",
       "        \n",
       "\n",
       "        marker_ffd534c5242cc297acdb2c7a55e2bc6b.bindPopup(popup_e41c31b0923994fa57e5520f71706bf8)\n",
       "        ;\n",
       "\n",
       "        \n",
       "    \n",
       "    \n",
       "            marker_ffd534c5242cc297acdb2c7a55e2bc6b.bindTooltip(\n",
       "                `&lt;div&gt;\n",
       "                     2014-2022 전라남도청 범죄율: 34,315.1\n",
       "                 &lt;/div&gt;`,\n",
       "                {\n",
       "  &quot;sticky&quot;: true,\n",
       "}\n",
       "            );\n",
       "        \n",
       "    \n",
       "            var marker_b2b425dea058b60d2860296224875944 = L.marker(\n",
       "                [36.5, 128.5],\n",
       "                {\n",
       "}\n",
       "            ).addTo(map_03dcbe0f46a60d1a05a41a1df489a1ca);\n",
       "        \n",
       "    \n",
       "            var icon_90776d42d8a012cc40d6275c372f8a8e = L.AwesomeMarkers.icon(\n",
       "                {\n",
       "  &quot;markerColor&quot;: &quot;green&quot;,\n",
       "  &quot;iconColor&quot;: &quot;white&quot;,\n",
       "  &quot;icon&quot;: &quot;info-sign&quot;,\n",
       "  &quot;prefix&quot;: &quot;glyphicon&quot;,\n",
       "  &quot;extraClasses&quot;: &quot;fa-rotate-0&quot;,\n",
       "}\n",
       "            );\n",
       "            marker_b2b425dea058b60d2860296224875944.setIcon(icon_90776d42d8a012cc40d6275c372f8a8e);\n",
       "        \n",
       "    \n",
       "        var popup_544607647bfe0f92448b8756cb25ad4b = L.popup({\n",
       "  &quot;maxWidth&quot;: &quot;100%&quot;,\n",
       "});\n",
       "\n",
       "        \n",
       "            \n",
       "                var html_863fb81f56897b5ed013acd69b2af5de = $(`&lt;div id=&quot;html_863fb81f56897b5ed013acd69b2af5de&quot; style=&quot;width: 100.0%; height: 100.0%;&quot;&gt;2014-2022 경상북도청 범죄율: 29,720.2&lt;/div&gt;`)[0];\n",
       "                popup_544607647bfe0f92448b8756cb25ad4b.setContent(html_863fb81f56897b5ed013acd69b2af5de);\n",
       "            \n",
       "        \n",
       "\n",
       "        marker_b2b425dea058b60d2860296224875944.bindPopup(popup_544607647bfe0f92448b8756cb25ad4b)\n",
       "        ;\n",
       "\n",
       "        \n",
       "    \n",
       "    \n",
       "            marker_b2b425dea058b60d2860296224875944.bindTooltip(\n",
       "                `&lt;div&gt;\n",
       "                     2014-2022 경상북도청 범죄율: 29,720.2\n",
       "                 &lt;/div&gt;`,\n",
       "                {\n",
       "  &quot;sticky&quot;: true,\n",
       "}\n",
       "            );\n",
       "        \n",
       "    \n",
       "            var marker_3224be6405c54109fb3ff43bf41fca55 = L.marker(\n",
       "                [35.2, 128.6],\n",
       "                {\n",
       "}\n",
       "            ).addTo(map_03dcbe0f46a60d1a05a41a1df489a1ca);\n",
       "        \n",
       "    \n",
       "            var icon_9d84392644b8ffcb0b3bc013f81f3eea = L.AwesomeMarkers.icon(\n",
       "                {\n",
       "  &quot;markerColor&quot;: &quot;green&quot;,\n",
       "  &quot;iconColor&quot;: &quot;white&quot;,\n",
       "  &quot;icon&quot;: &quot;info-sign&quot;,\n",
       "  &quot;prefix&quot;: &quot;glyphicon&quot;,\n",
       "  &quot;extraClasses&quot;: &quot;fa-rotate-0&quot;,\n",
       "}\n",
       "            );\n",
       "            marker_3224be6405c54109fb3ff43bf41fca55.setIcon(icon_9d84392644b8ffcb0b3bc013f81f3eea);\n",
       "        \n",
       "    \n",
       "        var popup_8ad712cc95b641b3e054ef609a7fbf39 = L.popup({\n",
       "  &quot;maxWidth&quot;: &quot;100%&quot;,\n",
       "});\n",
       "\n",
       "        \n",
       "            \n",
       "                var html_1f2c2f90b7b6235e079609dd2ba698dc = $(`&lt;div id=&quot;html_1f2c2f90b7b6235e079609dd2ba698dc&quot; style=&quot;width: 100.0%; height: 100.0%;&quot;&gt;2014-2022 경상남도청 범죄율: 33,777.6&lt;/div&gt;`)[0];\n",
       "                popup_8ad712cc95b641b3e054ef609a7fbf39.setContent(html_1f2c2f90b7b6235e079609dd2ba698dc);\n",
       "            \n",
       "        \n",
       "\n",
       "        marker_3224be6405c54109fb3ff43bf41fca55.bindPopup(popup_8ad712cc95b641b3e054ef609a7fbf39)\n",
       "        ;\n",
       "\n",
       "        \n",
       "    \n",
       "    \n",
       "            marker_3224be6405c54109fb3ff43bf41fca55.bindTooltip(\n",
       "                `&lt;div&gt;\n",
       "                     2014-2022 경상남도청 범죄율: 33,777.6\n",
       "                 &lt;/div&gt;`,\n",
       "                {\n",
       "  &quot;sticky&quot;: true,\n",
       "}\n",
       "            );\n",
       "        \n",
       "    \n",
       "            var marker_d9a2b10be76cf7bd19084da6558db96a = L.marker(\n",
       "                [33.4, 126.5],\n",
       "                {\n",
       "}\n",
       "            ).addTo(map_03dcbe0f46a60d1a05a41a1df489a1ca);\n",
       "        \n",
       "    \n",
       "            var icon_5c800ac339357a7e09f6c712c4e74696 = L.AwesomeMarkers.icon(\n",
       "                {\n",
       "  &quot;markerColor&quot;: &quot;green&quot;,\n",
       "  &quot;iconColor&quot;: &quot;white&quot;,\n",
       "  &quot;icon&quot;: &quot;info-sign&quot;,\n",
       "  &quot;prefix&quot;: &quot;glyphicon&quot;,\n",
       "  &quot;extraClasses&quot;: &quot;fa-rotate-0&quot;,\n",
       "}\n",
       "            );\n",
       "            marker_d9a2b10be76cf7bd19084da6558db96a.setIcon(icon_5c800ac339357a7e09f6c712c4e74696);\n",
       "        \n",
       "    \n",
       "        var popup_f4114f7bc2e8481233f49cc659c415fe = L.popup({\n",
       "  &quot;maxWidth&quot;: &quot;100%&quot;,\n",
       "});\n",
       "\n",
       "        \n",
       "            \n",
       "                var html_b77d5c63b0172d634cfa7f1a8bad5a09 = $(`&lt;div id=&quot;html_b77d5c63b0172d634cfa7f1a8bad5a09&quot; style=&quot;width: 100.0%; height: 100.0%;&quot;&gt;2014-2022 제주특별자치도청 범죄율: 44,188.8&lt;/div&gt;`)[0];\n",
       "                popup_f4114f7bc2e8481233f49cc659c415fe.setContent(html_b77d5c63b0172d634cfa7f1a8bad5a09);\n",
       "            \n",
       "        \n",
       "\n",
       "        marker_d9a2b10be76cf7bd19084da6558db96a.bindPopup(popup_f4114f7bc2e8481233f49cc659c415fe)\n",
       "        ;\n",
       "\n",
       "        \n",
       "    \n",
       "    \n",
       "            marker_d9a2b10be76cf7bd19084da6558db96a.bindTooltip(\n",
       "                `&lt;div&gt;\n",
       "                     2014-2022 제주특별자치도청 범죄율: 44,188.8\n",
       "                 &lt;/div&gt;`,\n",
       "                {\n",
       "  &quot;sticky&quot;: true,\n",
       "}\n",
       "            );\n",
       "        \n",
       "&lt;/script&gt;\n",
       "&lt;/html&gt;\" style=\"position:absolute;width:100%;height:100%;left:0;top:0;border:none !important;\" allowfullscreen webkitallowfullscreen mozallowfullscreen></iframe></div></div>"
      ],
      "text/plain": [
       "<folium.folium.Map at 0x20f850e66a0>"
      ]
     },
     "execution_count": 30,
     "metadata": {},
     "output_type": "execute_result"
    }
   ],
   "source": [
    "m"
   ]
  },
  {
   "cell_type": "markdown",
   "metadata": {},
   "source": [
    "[결론]\n",
    "- 인구수에 비해 범죄율이 높은건 아니다.\n",
    "- 제주특별시는 관광지라 관광객들이 인구에 포함이 되지않아 수치가 높게 나온다.\n"
   ]
  },
  {
   "cell_type": "code",
   "execution_count": null,
   "metadata": {},
   "outputs": [],
   "source": []
  },
  {
   "cell_type": "code",
   "execution_count": null,
   "metadata": {},
   "outputs": [],
   "source": []
  }
 ],
 "metadata": {
  "kernelspec": {
   "display_name": "PY39",
   "language": "python",
   "name": "python3"
  },
  "language_info": {
   "codemirror_mode": {
    "name": "ipython",
    "version": 3
   },
   "file_extension": ".py",
   "mimetype": "text/x-python",
   "name": "python",
   "nbconvert_exporter": "python",
   "pygments_lexer": "ipython3",
   "version": "3.9.21"
  }
 },
 "nbformat": 4,
 "nbformat_minor": 2
}
